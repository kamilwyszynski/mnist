{
 "metadata": {
  "language_info": {
   "codemirror_mode": {
    "name": "ipython",
    "version": 3
   },
   "file_extension": ".py",
   "mimetype": "text/x-python",
   "name": "python",
   "nbconvert_exporter": "python",
   "pygments_lexer": "ipython3",
   "version": "3.9.5"
  },
  "orig_nbformat": 2,
  "kernelspec": {
   "name": "python3",
   "display_name": "Python 3.9.5 64-bit"
  },
  "interpreter": {
   "hash": "aee8b7b246df8f9039afb4144a1f6fd8d2ca17a180786b69acc140d282b71a49"
  }
 },
 "nbformat": 4,
 "nbformat_minor": 2,
 "cells": [
  {
   "cell_type": "markdown",
   "source": [
    "### Imports"
   ],
   "metadata": {}
  },
  {
   "cell_type": "code",
   "execution_count": 2,
   "source": [
    "# data\n",
    "# from sklearn.datasets import fetch_mldata # this doesn't work on the new version of sklearn\n",
    "from sklearn.datasets import fetch_openml\n",
    "import numpy as np\n",
    "import random\n",
    "\n",
    "# models\n",
    "from sklearn.linear_model import SGDClassifier\n",
    "from sklearn.ensemble import RandomForestClassifier\n",
    "\n",
    "# model validation\n",
    "from sklearn.model_selection import cross_val_score, cross_val_predict\n",
    "from sklearn.metrics import confusion_matrix, precision_score, recall_score, f1_score, precision_recall_curve, roc_curve, roc_auc_score\n",
    "\n",
    "# visualisation\n",
    "import matplotlib\n",
    "import matplotlib.pyplot as plt"
   ],
   "outputs": [],
   "metadata": {}
  },
  {
   "cell_type": "code",
   "execution_count": 3,
   "source": [
    "# Getting the data \n",
    "# mnist = fetch_mldata('MNIST original')\n",
    "\n",
    "mnist = fetch_openml('mnist_784', version=1, cache=True, as_frame=False)  # a new way of getting the mnist dataset\n"
   ],
   "outputs": [],
   "metadata": {}
  },
  {
   "cell_type": "code",
   "execution_count": 4,
   "source": [
    "# ordering the dataset as explained in here: https://github.com/ageron/handson-ml/issues/301#issuecomment-448853256\n",
    "\n",
    "def sort_by_target(mnist):\n",
    "    reorder_train = np.array(\n",
    "        sorted([(target, i) for i, target in enumerate(mnist.target[:60000])]))[:, 1]\n",
    "    reorder_test = np.array(\n",
    "        sorted([(target, i) for i, target in enumerate(mnist.target[60000:])]))[:, 1]\n",
    "    mnist.data[:60000] = mnist.data[reorder_train]\n",
    "    mnist.target[:60000] = mnist.target[reorder_train]\n",
    "    mnist.data[60000:] = mnist.data[reorder_test + 60000]\n",
    "    mnist.target[60000:] = mnist.target[reorder_test + 60000]\n",
    "\n",
    "# fetch_openml() returns targets as strings\n",
    "mnist.target = mnist.target.astype(np.int8)\n",
    "sort_by_target(mnist)  # fetch_openml() returns an unsorted dataset"
   ],
   "outputs": [],
   "metadata": {}
  },
  {
   "cell_type": "code",
   "execution_count": 5,
   "source": [
    "# Getting dataset info\n",
    "# print(mnist)\n",
    "\n",
    "# Split into data and labels\n",
    "X, y = mnist['data'], mnist['target']\n",
    "\n",
    "print(X.shape)\n",
    "print(y.shape)"
   ],
   "outputs": [
    {
     "output_type": "stream",
     "name": "stdout",
     "text": [
      "(70000, 784)\n",
      "(70000,)\n"
     ]
    }
   ],
   "metadata": {}
  },
  {
   "cell_type": "code",
   "execution_count": 6,
   "source": [
    "# Showing a sample of the dataset\n",
    "%matplotlib inline\n",
    "\n",
    "random_int = random.randint(0, X.shape[0])\n",
    "\n",
    "random_number = X[random_int].reshape(28, 28)\n",
    "plt.imshow(random_number, cmap=matplotlib.cm.binary, interpolation=\"nearest\")\n",
    "plt.axis(\"off\")\n",
    "plt.show"
   ],
   "outputs": [
    {
     "output_type": "execute_result",
     "data": {
      "text/plain": [
       "<function matplotlib.pyplot.show(close=None, block=None)>"
      ]
     },
     "metadata": {},
     "execution_count": 6
    },
    {
     "output_type": "display_data",
     "data": {
      "image/png": "[encoded data removed]",
      "text/plain": [
       "<Figure size 432x288 with 1 Axes>"
      ]
     },
     "metadata": {
      "needs_background": "light"
     }
    }
   ],
   "metadata": {}
  },
  {
   "cell_type": "markdown",
   "source": [
    "### Data prep"
   ],
   "metadata": {}
  },
  {
   "cell_type": "code",
   "execution_count": 7,
   "source": [
    "# shuffling the data \n",
    "\n",
    "shuffle_index = np.random.permutation(70000)\n",
    "X, y = X[shuffle_index], y[shuffle_index]"
   ],
   "outputs": [],
   "metadata": {}
  },
  {
   "cell_type": "code",
   "execution_count": 8,
   "source": [
    "# 6000/1000 train test split\n",
    "\n",
    "X_train, X_test, y_train, y_test = X[:60000], X[60000:], y[:60000], y[60000:]"
   ],
   "outputs": [],
   "metadata": {}
  },
  {
   "cell_type": "markdown",
   "source": [
    "### Developing as 5 identifier\n",
    "\n",
    "Using a stochastic gradient descent model, we're going to build a model that will try to determine if an image is representing a number five."
   ],
   "metadata": {}
  },
  {
   "cell_type": "code",
   "execution_count": 9,
   "source": [
    "# Creating a boolean mask for 5 and non-5\n",
    "\n",
    "y_train_5 = (y_train == 5)\n",
    "y_test_5 = (y_test == 5)"
   ],
   "outputs": [],
   "metadata": {}
  },
  {
   "cell_type": "code",
   "execution_count": 10,
   "source": [
    "# Training the SGD Classification model\n",
    "\n",
    "sgd_class = SGDClassifier(random_state=42)\n",
    "sgd_class.fit(X_train, y_train_5)"
   ],
   "outputs": [
    {
     "output_type": "execute_result",
     "data": {
      "text/plain": [
       "SGDClassifier(random_state=42)"
      ]
     },
     "metadata": {},
     "execution_count": 10
    }
   ],
   "metadata": {}
  },
  {
   "cell_type": "code",
   "execution_count": 11,
   "source": [
    "rand = random.randint(0, 10000)\n",
    "X_example = X_test[rand]\n",
    "y_example = y_test[rand]\n",
    "\n",
    "%matplotlib inline\n",
    "\n",
    "plt.imshow(X_example.reshape(28,28), cmap=matplotlib.cm.binary, interpolation=\"nearest\")\n",
    "plt.axis('off')\n",
    "\n",
    "if sgd_class.predict([X_example])[0]:\n",
    "    print('It\\'s a five!')\n",
    "else:\n",
    "    print('It\\'s some other number...')"
   ],
   "outputs": [
    {
     "output_type": "stream",
     "name": "stdout",
     "text": [
      "It's some other number...\n"
     ]
    },
    {
     "output_type": "display_data",
     "data": {
      "image/png": "[encoded data removed]",
      "text/plain": [
       "<Figure size 432x288 with 1 Axes>"
      ]
     },
     "metadata": {
      "needs_background": "light"
     }
    }
   ],
   "metadata": {}
  },
  {
   "cell_type": "markdown",
   "source": [
    "### Measuring the accuracy of the model"
   ],
   "metadata": {}
  },
  {
   "cell_type": "code",
   "execution_count": 12,
   "source": [
    "# Using cross-validation\n",
    "\n",
    "# The outcome of this validation (accuracy) is usually 95% or better\n",
    "# That is mostly because 90% of the data is not 5\n",
    "# Ther model is training on skewed data, therefore,\n",
    "# accuracy is not the best measure for validation of the model\n",
    "\n",
    "cross_val_score(sgd_class, X_train, y_train_5, cv=3, scoring='accuracy')"
   ],
   "outputs": [
    {
     "output_type": "execute_result",
     "data": {
      "text/plain": [
       "array([0.9694, 0.9676, 0.9583])"
      ]
     },
     "metadata": {},
     "execution_count": 12
    }
   ],
   "metadata": {}
  },
  {
   "cell_type": "code",
   "execution_count": 13,
   "source": [
    "# Getting the set of predictions from the model for analysis\n",
    "\n",
    "y_train_pred = cross_val_predict(sgd_class, X_train, y_train_5) # How exactly does it make predictions"
   ],
   "outputs": [],
   "metadata": {}
  },
  {
   "cell_type": "code",
   "execution_count": 14,
   "source": [
    "len(y_train_pred)"
   ],
   "outputs": [
    {
     "output_type": "execute_result",
     "data": {
      "text/plain": [
       "60000"
      ]
     },
     "metadata": {},
     "execution_count": 14
    }
   ],
   "metadata": {}
  },
  {
   "cell_type": "code",
   "execution_count": 15,
   "source": [
    "# Generating the confusion matrix for the model's prediction\n",
    "\n",
    "conf_mat = confusion_matrix(y_train_5, y_train_pred)\n",
    "conf_mat"
   ],
   "outputs": [
    {
     "output_type": "execute_result",
     "data": {
      "text/plain": [
       "array([[53360,  1253],\n",
       "       [ 1129,  4258]])"
      ]
     },
     "metadata": {},
     "execution_count": 15
    }
   ],
   "metadata": {}
  },
  {
   "cell_type": "code",
   "execution_count": 17,
   "source": [
    "# Calculating precision and recall\n",
    "\n",
    "# Precision - Out of all classified as 5's, those that actually were 5's\n",
    "p = conf_mat[1][1] / (conf_mat[0][1] + conf_mat[1][1])\n",
    "\n",
    "# Recall - Out of all 5's, those that were correctly classified\n",
    "r = conf_mat[1][1] / (conf_mat[1][1] + conf_mat[1][0])\n",
    "\n",
    "print(f'Precision: {round(p*100,2)}%\\nRecall: {round(r*100,2)}%')"
   ],
   "outputs": [
    {
     "output_type": "stream",
     "name": "stdout",
     "text": [
      "Precision: 77.26%\n",
      "Recall: 79.04%\n"
     ]
    }
   ],
   "metadata": {}
  },
  {
   "cell_type": "code",
   "execution_count": 18,
   "source": [
    "# Calculatin precision and recall with scikit learn\n",
    "\n",
    "p = precision_score(y_train_5, y_train_pred)\n",
    "r = recall_score(y_train_5, y_train_pred)\n",
    "\n",
    "print(f'Precision: {round(p*100,2)}%\\nRecall: {round(r*100,2)}%')\n",
    "\n",
    "# We can also calculate the F1 score\n",
    "# That is, a harmonic mean of precision and recall.\n",
    "\n",
    "# This is a measure that get's higher the more similar precision and recall values are\n",
    "f1 = f1_score(y_train_5, y_train_pred)\n",
    "\n",
    "print(f'F1 score: {round(f1*100,2)}%')"
   ],
   "outputs": [
    {
     "output_type": "stream",
     "name": "stdout",
     "text": [
      "Precision: 77.26%\n",
      "Recall: 79.04%\n",
      "F1 score: 78.14%\n"
     ]
    }
   ],
   "metadata": {}
  },
  {
   "cell_type": "code",
   "execution_count": 25,
   "source": [
    "# In order to understand and modify the threshold value of the SGD classifier\n",
    "# we can call it's `decision_function()` that will tell us the score\n",
    "# of how likely the image represents a 5.\n",
    "# Than we can make the decision ourselves and see how different measures change.\n",
    "\n",
    "y_scores = sgd_class.decision_function([X_example])\n",
    "print('Example y score: ' + str(y_scores))\n",
    "\n",
    "# SGD classifier uses a threshold value of 0 by defaut\n",
    "threshold = 0\n",
    "print(y_scores > threshold)\n",
    "\n",
    "# We can now change the threshold\n",
    "threshold = 200000\n",
    "print(y_scores < threshold)\n"
   ],
   "outputs": [
    {
     "output_type": "stream",
     "name": "stdout",
     "text": [
      "Example y score: [-7368.80226362]\n",
      "[False]\n",
      "[ True]\n"
     ]
    }
   ],
   "metadata": {}
  },
  {
   "cell_type": "code",
   "execution_count": 26,
   "source": [
    "# The score for each prediction can be calculated by the cross_valid_predict()\n",
    "\n",
    "y_scores = cross_val_predict(sgd_class, X_train, y_train_5, cv=3, method='decision_function')"
   ],
   "outputs": [],
   "metadata": {}
  },
  {
   "cell_type": "code",
   "execution_count": 40,
   "source": [
    "# We can plot different precision and recall values depending on different threshold values\n",
    "\n",
    "precisions, recalls, thresholds = precision_recall_curve(y_train_5, y_scores)\n",
    "\n",
    "def plot_precision_recall_vs_threshold(precisions, recalls, thresholds):\n",
    "    plt.plot(thresholds, precisions[:-1], 'b--', label='Precision')\n",
    "    plt.plot(thresholds, recalls[:-1], 'g-', label='Recall')\n",
    "    plt.xlabel('Threshold')\n",
    "    plt.legend(loc='center left')\n",
    "    plt.ylim(0, 1)\n",
    "\n",
    "plot_precision_recall_vs_threshold(precisions, recalls, thresholds)\n",
    "\n",
    "# Noticeably, the precision curve is a lot less smooth than the recall one\n",
    "# This is because when we increase the threshhold, we eliminate some of the True positives\n",
    "# and therefore, te overall precision dives down a little.\n",
    "# It goes back up again as we get past more and more of false positives"
   ],
   "outputs": [
    {
     "output_type": "display_data",
     "data": {
      "image/png": "[encoded data removed]",
      "text/plain": [
       "<Figure size 432x288 with 1 Axes>"
      ]
     },
     "metadata": {
      "needs_background": "light"
     }
    }
   ],
   "metadata": {}
  },
  {
   "cell_type": "code",
   "execution_count": 41,
   "source": [
    "# It's also possible to plot precision directly against recall\n",
    "\n",
    "def plot_precision_vs_recall(precisions, recalls):\n",
    "    plt.plot(recalls, precisions, 'r-')\n",
    "    plt.xlabel('Recall')\n",
    "    plt.ylabel('Precision')\n",
    "    plt.xlim(0, 1)\n",
    "    plt.ylim(0, 1)\n",
    "\n",
    "plot_precision_vs_recall(precisions, recalls)"
   ],
   "outputs": [
    {
     "output_type": "display_data",
     "data": {
      "image/png": "[encoded data removed]",
      "text/plain": [
       "<Figure size 432x288 with 1 Axes>"
      ]
     },
     "metadata": {
      "needs_background": "light"
     }
    }
   ],
   "metadata": {}
  },
  {
   "cell_type": "code",
   "execution_count": 27,
   "source": [
    "# Depending on the project, we might want a specific precision value\n",
    "# Let's say that we want the precision value of 90%.\n",
    "# Now we can select a threshold value that will suit this.\n",
    "# On the first plot, we can see that the precision of 90% is at about 30000 threshold value\n",
    "\n",
    "y_train_pred_90 = (y_scores > 30000)\n",
    "\n",
    "# now we can veirfy the precision and check the recall\n",
    "p = precision_score(y_train_5, y_train_pred_90)\n",
    "r = recall_score(y_train_5, y_train_pred_90)\n",
    "\n",
    "print(f'Precision: {round(p*100,2)}%\\nRecall: {round(r*100,2)}%')\n"
   ],
   "outputs": [
    {
     "output_type": "stream",
     "name": "stdout",
     "text": [
      "Precision: 100.0%\n",
      "Recall: 0.22%\n"
     ]
    }
   ],
   "metadata": {}
  },
  {
   "cell_type": "code",
   "execution_count": 21,
   "source": [
    "# Because of choosing the score of 30000, we got a high precision score\n",
    "# however, the recall score is near 0, which means that out of all 5's\n",
    "# only 0.2% got classified as 5's!\n",
    "\n",
    "# There's a lower threshold score we can choose that's also around 90% recall value ~ 4500\n",
    "y_train_pred_90 = (y_scores > 4500)\n",
    "\n",
    "p = precision_score(y_train_5, y_train_pred_90)\n",
    "r = recall_score(y_train_5, y_train_pred_90)\n",
    "\n",
    "print(f'Precision: {round(p*100,2)}%\\nRecall: {round(r*100,2)}%')\n",
    "\n",
    "# Whith this score, we can see that most of the 5's have been identified correctlty"
   ],
   "outputs": [
    {
     "output_type": "stream",
     "name": "stdout",
     "text": [
      "Precision: 95.91%\n",
      "Recall: 43.11%\n"
     ]
    }
   ],
   "metadata": {}
  },
  {
   "cell_type": "code",
   "execution_count": 29,
   "source": [
    "# We can also plot the ROC curve\n",
    "# This shows us the change between the true and false positive rates.\n",
    "\n",
    "fpr, tpr, thresholds = roc_curve(y_train_5, y_scores)\n",
    "\n",
    "def plot_roc(fpr, tpr, label=None):\n",
    "    plt.plot(fpr, tpr, linewidth=2, label=label)\n",
    "    plt.xlabel('False Positve Rate')\n",
    "    plt.ylabel('True Positive Rate')\n",
    "    plt.plot([0,1], [0,1], 'k--')\n",
    "    plt.axis([0, 1, 0, 1])\n",
    "\n",
    "plot_roc(fpr, tpr)"
   ],
   "outputs": [
    {
     "output_type": "display_data",
     "data": {
      "image/png": "[encoded data removed]",
      "text/plain": [
       "<Figure size 432x288 with 1 Axes>"
      ]
     },
     "metadata": {
      "needs_background": "light"
     }
    }
   ],
   "metadata": {}
  },
  {
   "cell_type": "code",
   "execution_count": 30,
   "source": [
    "# we can compare this way a number of models by calculating the Area Under the Curve (AUC)\n",
    "\n",
    "auc = roc_auc_score(y_train_5, y_scores)\n",
    "print(f'AUC: {auc}')"
   ],
   "outputs": [
    {
     "output_type": "stream",
     "name": "stdout",
     "text": [
      "AUC: 0.956158528645071\n"
     ]
    }
   ],
   "metadata": {}
  },
  {
   "cell_type": "code",
   "execution_count": 32,
   "source": [
    "# We can now train anothre model (random forrest classifier) and compare it to the outputs from the sgd one\n",
    "\n",
    "forest_class = RandomForestClassifier(random_state=42)\n",
    "\n",
    "# There's a slight difference in how rfc will determine it's choice.\n",
    "# instead of using the threshold and decision fucntion value to determine what class the datapoint is in,\n",
    "# rfc uses an array of size [number of datapoints * number of classes] which contains probability of\n",
    "# a datapoint being assigned to each class\n",
    "\n",
    "y_probas_forest = cross_val_predict(forest_class, X_train, y_train_5, cv=3, method='predict_proba')\n",
    "\n",
    "# Now we have the probabilities of each class.\n",
    "# But in order to calculate the the RAC or the PR curves, we need to calculate some sort of a score.\n",
    "# Since this is a binary classifier, we can just use one of the probablity scores as our score\n",
    "\n",
    "y_scores_forest = y_probas_forest[:, 1]\n",
    "fpr_forest, tpr_forest, thresholds_forest = roc_curve(y_train_5, y_scores_forest)"
   ],
   "outputs": [],
   "metadata": {}
  },
  {
   "cell_type": "code",
   "execution_count": 35,
   "source": [
    "y_probas_forest[:, 1]\n"
   ],
   "outputs": [
    {
     "output_type": "execute_result",
     "data": {
      "text/plain": [
       "array([0.02, 0.  , 0.13, ..., 0.02, 0.01, 0.  ])"
      ]
     },
     "metadata": {},
     "execution_count": 35
    }
   ],
   "metadata": {}
  },
  {
   "cell_type": "code",
   "execution_count": 36,
   "source": [
    "# Now we can plot and compare the two models\n",
    "\n",
    "plt.plot(fpr, tpr, 'b:', label='SGD')\n",
    "plot_roc(fpr_forest, tpr_forest, 'RFC')\n",
    "plt.legend(loc='lower right')\n",
    "plt.show()\n",
    "\n",
    "# We can see that the random forest model manages to classify the 5's a lot better than the SGD\n",
    "# By the fact that is 'stcks' to the top left corener a lot more"
   ],
   "outputs": [
    {
     "output_type": "display_data",
     "data": {
      "image/png": "[encoded data removed]",
      "text/plain": [
       "<Figure size 432x288 with 1 Axes>"
      ]
     },
     "metadata": {
      "needs_background": "light"
     }
    }
   ],
   "metadata": {}
  },
  {
   "cell_type": "code",
   "execution_count": 37,
   "source": [
    "# We can also measure the difference between the two by calculating the AUC score\n",
    "\n",
    "auc_forest = roc_auc_score(y_train_5, y_scores_forest)\n",
    "print(f'Random Forest AUC score: {auc_forest}\\nSGD AUC score: {auc}')"
   ],
   "outputs": [
    {
     "output_type": "stream",
     "name": "stdout",
     "text": [
      "Random Forest AUC score: 0.9985195015023628\n",
      "SGD AUC score: 0.956158528645071\n"
     ]
    }
   ],
   "metadata": {}
  },
  {
   "cell_type": "code",
   "execution_count": 42,
   "source": [
    "# Lastly, we can calculate Precision and Recall for this model as well\n",
    "\n",
    "precisions_forest, recalls_forest, thresholds_forest = precision_recall_curve(y_train_5, y_scores_forest)\n",
    "plot_precision_recall_vs_threshold(precisions_forest, recalls_forest, thresholds_forest)\n",
    "plt.show()\n",
    "\n",
    "plot_precision_vs_recall(precisions_forest, recalls_forest)"
   ],
   "outputs": [
    {
     "output_type": "display_data",
     "data": {
      "image/png": "[encoded data removed]",
      "text/plain": [
       "<Figure size 432x288 with 1 Axes>"
      ]
     },
     "metadata": {
      "needs_background": "light"
     }
    },
    {
     "output_type": "display_data",
     "data": {
      "image/png": "[encoded data removed]",
      "text/plain": [
       "<Figure size 432x288 with 1 Axes>"
      ]
     },
     "metadata": {
      "needs_background": "light"
     }
    }
   ],
   "metadata": {}
  },
  {
   "cell_type": "code",
   "execution_count": 43,
   "source": [
    "# Judging by the first plot, in order to get 90% recall, we'd need to set the threshold to about 0.4\n",
    "y_train_pred_90_forest = (y_scores_forest > 0.4)\n",
    "\n",
    "p_forest = precision_score(y_train_5, y_train_pred_90_forest)\n",
    "r_forest = recall_score(y_train_5, y_train_pred_90_forest)\n",
    "\n",
    "print(f'Precision: {round(p_forest*100,2)}%\\nRecall: {round(r_forest*100,2)}%')\n",
    "\n",
    "# This is a lot better than the SGD model"
   ],
   "outputs": [
    {
     "output_type": "stream",
     "name": "stdout",
     "text": [
      "Precision: 97.78%\n",
      "Recall: 91.61%\n"
     ]
    }
   ],
   "metadata": {}
  }
 ]
}