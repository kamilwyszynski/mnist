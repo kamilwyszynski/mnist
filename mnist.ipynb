{
 "metadata": {
  "language_info": {
   "codemirror_mode": {
    "name": "ipython",
    "version": 3
   },
   "file_extension": ".py",
   "mimetype": "text/x-python",
   "name": "python",
   "nbconvert_exporter": "python",
   "pygments_lexer": "ipython3",
   "version": "3.7.2-final"
  },
  "orig_nbformat": 2,
  "kernelspec": {
   "name": "python3",
   "display_name": "Python 3",
   "language": "python"
  }
 },
 "nbformat": 4,
 "nbformat_minor": 2,
 "cells": [
  {
   "source": [
    "### Imports"
   ],
   "cell_type": "markdown",
   "metadata": {}
  },
  {
   "cell_type": "code",
   "execution_count": 181,
   "metadata": {},
   "outputs": [],
   "source": [
    "from sklearn.datasets import fetch_mldata\n",
    "import numpy as np\n",
    "from sklearn.linear_model import SGDClassifier\n",
    "\n",
    "# cross-validation\n",
    "from sklearn.model_selection import cross_val_score, cross_val_predict"
   ]
  },
  {
   "cell_type": "code",
   "execution_count": 10,
   "metadata": {},
   "outputs": [
    {
     "output_type": "stream",
     "name": "stderr",
     "text": [
      "/Users/kamilwyszynski/.local/lib/python3.7/site-packages/sklearn/utils/deprecation.py:85: DeprecationWarning: Function fetch_mldata is deprecated; fetch_mldata was deprecated in version 0.20 and will be removed in version 0.22. Please use fetch_openml.\n  warnings.warn(msg, category=DeprecationWarning)\n/Users/kamilwyszynski/.local/lib/python3.7/site-packages/sklearn/utils/deprecation.py:85: DeprecationWarning: Function mldata_filename is deprecated; mldata_filename was deprecated in version 0.20 and will be removed in version 0.22. Please use fetch_openml.\n  warnings.warn(msg, category=DeprecationWarning)\n"
     ]
    }
   ],
   "source": [
    "# Getting the data \n",
    "mnist = fetch_mldata('MNIST original')"
   ]
  },
  {
   "cell_type": "code",
   "execution_count": 75,
   "metadata": {},
   "outputs": [
    {
     "output_type": "stream",
     "name": "stdout",
     "text": [
      "{'DESCR': 'mldata.org dataset: mnist-original', 'COL_NAMES': ['label', 'data'], 'target': array([0., 0., 0., ..., 9., 9., 9.]), 'data': array([[0, 0, 0, ..., 0, 0, 0],\n       [0, 0, 0, ..., 0, 0, 0],\n       [0, 0, 0, ..., 0, 0, 0],\n       ...,\n       [0, 0, 0, ..., 0, 0, 0],\n       [0, 0, 0, ..., 0, 0, 0],\n       [0, 0, 0, ..., 0, 0, 0]], dtype=uint8)}\n(70000, 784)\n(70000,)\n6313\n"
     ]
    }
   ],
   "source": [
    "# Getting dataset info\n",
    "print(mnist)\n",
    "\n",
    "# Split into data and labels\n",
    "X, y = mnist['data'], mnist['target']\n",
    "\n",
    "print(X.shape)\n",
    "print(y.shape)"
   ]
  },
  {
   "cell_type": "code",
   "execution_count": 42,
   "metadata": {},
   "outputs": [
    {
     "output_type": "stream",
     "name": "stdout",
     "text": [
      "2.0\n"
     ]
    },
    {
     "output_type": "display_data",
     "data": {
      "text/plain": "<Figure size 432x288 with 1 Axes>",
      "image/svg+xml": "<?xml version=\"1.0\" encoding=\"utf-8\" standalone=\"no\"?>\n<!DOCTYPE svg PUBLIC \"-//W3C//DTD SVG 1.1//EN\"\n  \"http://www.w3.org/Graphics/SVG/1.1/DTD/svg11.dtd\">\n<!-- Created with matplotlib (http://matplotlib.org/) -->\n<svg height=\"252.018125pt\" version=\"1.1\" viewBox=\"0 0 255.065 252.018125\" width=\"255.065pt\" xmlns=\"http://www.w3.org/2000/svg\" xmlns:xlink=\"http://www.w3.org/1999/xlink\">\n <defs>\n  <style type=\"text/css\">\n*{stroke-linecap:butt;stroke-linejoin:round;}\n  </style>\n </defs>\n <g id=\"figure_1\">\n  <g id=\"patch_1\">\n   <path d=\"M 0 252.018125 \nL 255.065 252.018125 \nL 255.065 0 \nL 0 0 \nz\n\" style=\"fill:none;\"/>\n  </g>\n  <g id=\"axes_1\">\n   <g clip-path=\"url(#p595e3b4cd9)\">\n    <image height=\"218\" id=\"image619b562064\" transform=\"scale(1 -1)translate(0 -218)\" width=\"218\" x=\"26.925\" xlink:href=\"data:image/png;base64,\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\" y=\"-10.14\"/>\n   </g>\n  </g>\n </g>\n <defs>\n  <clipPath id=\"p595e3b4cd9\">\n   <rect height=\"217.44\" width=\"217.44\" x=\"26.925\" y=\"10.7\"/>\n  </clipPath>\n </defs>\n</svg>\n",
      "image/png": "[encoded data removed]"
     },
     "metadata": {
      "needs_background": "light"
     }
    }
   ],
   "source": [
    "# Showing a sample of the dataset\n",
    "%matplotlib inline\n",
    "\n",
    "import matplotlib\n",
    "import matplotlib.pyplot as plt\n",
    "import random\n",
    "\n",
    "random_int = random.randint(0, X.shape[0])\n",
    "\n",
    "random_number = X[random_int].reshape(28, 28)\n",
    "plt.imshow(random_number, cmap=matplotlib.cm.binary, interpolation=\"nearest\")\n",
    "plt.axis(\"off\")\n",
    "plt.show\n",
    "\n",
    "print(y[random_int]"
   ]
  },
  {
   "source": [
    "### Data prep"
   ],
   "cell_type": "markdown",
   "metadata": {}
  },
  {
   "cell_type": "code",
   "execution_count": 76,
   "metadata": {},
   "outputs": [],
   "source": [
    "# shuffling the data \n",
    "\n",
    "shuffle_index = np.random.permutation(70000)\n",
    "X, y = X[shuffle_index], y[shuffle_index]"
   ]
  },
  {
   "cell_type": "code",
   "execution_count": 77,
   "metadata": {},
   "outputs": [],
   "source": [
    "# 6000/1000 train test split\n",
    "\n",
    "X_train, X_test, y_train, y_test = X[:60000], X[60000:], y[:60000], y[60000:]"
   ]
  },
  {
   "source": [
    "### Developing as 5 identifier\n",
    "\n",
    "Using a stochastic gradient descent model, we're going to build a model thatwill try to determine if an image is representing a number five."
   ],
   "cell_type": "markdown",
   "metadata": {}
  },
  {
   "cell_type": "code",
   "execution_count": 78,
   "metadata": {},
   "outputs": [],
   "source": [
    "# Creating a boolean mask for 5 and non-5\n",
    "\n",
    "y_train_5 = (y_train == 5)\n",
    "y_test_5 = (y_test == 5)"
   ]
  },
  {
   "cell_type": "code",
   "execution_count": 79,
   "metadata": {},
   "outputs": [
    {
     "output_type": "execute_result",
     "data": {
      "text/plain": [
       "SGDClassifier(alpha=0.0001, average=False, class_weight=None,\n",
       "              early_stopping=False, epsilon=0.1, eta0=0.0, fit_intercept=True,\n",
       "              l1_ratio=0.15, learning_rate='optimal', loss='hinge',\n",
       "              max_iter=1000, n_iter_no_change=5, n_jobs=None, penalty='l2',\n",
       "              power_t=0.5, random_state=42, shuffle=True, tol=0.001,\n",
       "              validation_fraction=0.1, verbose=0, warm_start=False)"
      ]
     },
     "metadata": {},
     "execution_count": 79
    }
   ],
   "source": [
    "# Training the SGD Classification model\n",
    "\n",
    "sgd_class = SGDClassifier(random_state=42)\n",
    "sgd_class.fit(X_train, y_train_5)"
   ]
  },
  {
   "cell_type": "code",
   "execution_count": 180,
   "metadata": {},
   "outputs": [
    {
     "output_type": "stream",
     "name": "stdout",
     "text": [
      "It's some other number...\n"
     ]
    },
    {
     "output_type": "display_data",
     "data": {
      "text/plain": "<Figure size 432x288 with 1 Axes>",
      "image/svg+xml": "<?xml version=\"1.0\" encoding=\"utf-8\" standalone=\"no\"?>\n<!DOCTYPE svg PUBLIC \"-//W3C//DTD SVG 1.1//EN\"\n  \"http://www.w3.org/Graphics/SVG/1.1/DTD/svg11.dtd\">\n<!-- Created with matplotlib (http://matplotlib.org/) -->\n<svg height=\"252.018125pt\" version=\"1.1\" viewBox=\"0 0 255.065 252.018125\" width=\"255.065pt\" xmlns=\"http://www.w3.org/2000/svg\" xmlns:xlink=\"http://www.w3.org/1999/xlink\">\n <defs>\n  <style type=\"text/css\">\n*{stroke-linecap:butt;stroke-linejoin:round;}\n  </style>\n </defs>\n <g id=\"figure_1\">\n  <g id=\"patch_1\">\n   <path d=\"M 0 252.018125 \nL 255.065 252.018125 \nL 255.065 0 \nL 0 0 \nz\n\" style=\"fill:none;\"/>\n  </g>\n  <g id=\"axes_1\">\n   <g clip-path=\"url(#p9764b5b39c)\">\n    <image height=\"218\" id=\"image802269fe15\" transform=\"scale(1 -1)translate(0 -218)\" width=\"218\" x=\"26.925\" xlink:href=\"data:image/png;base64,\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\" y=\"-10.14\"/>\n   </g>\n  </g>\n </g>\n <defs>\n  <clipPath id=\"p9764b5b39c\">\n   <rect height=\"217.44\" width=\"217.44\" x=\"26.925\" y=\"10.7\"/>\n  </clipPath>\n </defs>\n</svg>\n",
      "image/png": "[encoded data removed]"
     },
     "metadata": {
      "needs_background": "light"
     }
    }
   ],
   "source": [
    "rand = random.randint(0, 10000)\n",
    "X_example = X_test[rand]\n",
    "y_example = y_test[rand]\n",
    "\n",
    "%matplotlib inline\n",
    "\n",
    "plt.imshow(X_example.reshape(28,28), cmap=matplotlib.cm.binary, interpolation=\"nearest\")\n",
    "plt.axis('off')\n",
    "\n",
    "if sgd_class.predict([X_example])[0]:\n",
    "    print('It\\'s a five!')\n",
    "else:\n",
    "    print('It\\'s some other number...')"
   ]
  },
  {
   "source": [
    "### Measuring the accuracy of the model"
   ],
   "cell_type": "markdown",
   "metadata": {}
  },
  {
   "cell_type": "code",
   "execution_count": null,
   "metadata": {},
   "outputs": [],
   "source": [
    "# Using cross-validation\n",
    "\n",
    "cross_val_score(sgd_class, )"
   ]
  }
 ]
}