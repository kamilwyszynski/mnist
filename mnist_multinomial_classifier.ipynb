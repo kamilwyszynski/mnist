{
 "metadata": {
  "language_info": {
   "codemirror_mode": {
    "name": "ipython",
    "version": 3
   },
   "file_extension": ".py",
   "mimetype": "text/x-python",
   "name": "python",
   "nbconvert_exporter": "python",
   "pygments_lexer": "ipython3",
   "version": "3.7.2-final"
  },
  "orig_nbformat": 2,
  "kernelspec": {
   "name": "python3",
   "display_name": "Python 3",
   "language": "python"
  }
 },
 "nbformat": 4,
 "nbformat_minor": 2,
 "cells": [
  {
   "cell_type": "code",
   "execution_count": 54,
   "metadata": {},
   "outputs": [],
   "source": [
    "# data\n",
    "from sklearn.datasets import fetch_mldata\n",
    "import numpy as np\n",
    "import random\n",
    "from sklearn.preprocessing import StandardScaler\n",
    "\n",
    "# models\n",
    "from sklearn.linear_model import SGDClassifier\n",
    "from sklearn.ensemble import RandomForestClassifier\n",
    "\n",
    "# model validation\n",
    "from sklearn.model_selection import cross_val_score, cross_val_predict\n",
    "from sklearn.metrics import confusion_matrix, precision_score, recall_score, f1_score, precision_recall_curve, roc_curve, roc_auc_score\n",
    "\n",
    "# visualisation\n",
    "import matplotlib\n",
    "import matplotlib.pyplot as plt"
   ]
  },
  {
   "cell_type": "code",
   "execution_count": 2,
   "metadata": {},
   "outputs": [
    {
     "output_type": "stream",
     "name": "stderr",
     "text": [
      "/Users/kamilwyszynski/.local/lib/python3.7/site-packages/sklearn/utils/deprecation.py:85: DeprecationWarning: Function fetch_mldata is deprecated; fetch_mldata was deprecated in version 0.20 and will be removed in version 0.22. Please use fetch_openml.\n  warnings.warn(msg, category=DeprecationWarning)\n/Users/kamilwyszynski/.local/lib/python3.7/site-packages/sklearn/utils/deprecation.py:85: DeprecationWarning: Function mldata_filename is deprecated; mldata_filename was deprecated in version 0.20 and will be removed in version 0.22. Please use fetch_openml.\n  warnings.warn(msg, category=DeprecationWarning)\n"
     ]
    }
   ],
   "source": [
    "# Getting the data \n",
    "mnist = fetch_mldata('MNIST original')\n",
    "\n",
    "# Split into data and labels\n",
    "X, y = mnist['data'], mnist['target']\n",
    "\n",
    "# shuffling the data \n",
    "shuffle_index = np.random.permutation(70000)\n",
    "X, y = X[shuffle_index], y[shuffle_index]\n",
    "\n",
    "# splitting the data\n",
    "X_train, X_test, y_train, y_test = X[:60000], X[60000:], y[:60000], y[60000:]"
   ]
  },
  {
   "cell_type": "code",
   "execution_count": 6,
   "metadata": {},
   "outputs": [
    {
     "output_type": "execute_result",
     "data": {
      "text/plain": [
       "SGDClassifier(alpha=0.0001, average=False, class_weight=None,\n",
       "              early_stopping=False, epsilon=0.1, eta0=0.0, fit_intercept=True,\n",
       "              l1_ratio=0.15, learning_rate='optimal', loss='hinge',\n",
       "              max_iter=1000, n_iter_no_change=5, n_jobs=None, penalty='l2',\n",
       "              power_t=0.5, random_state=42, shuffle=True, tol=0.001,\n",
       "              validation_fraction=0.1, verbose=0, warm_start=False)"
      ]
     },
     "metadata": {},
     "execution_count": 6
    }
   ],
   "source": [
    "# Now, we're going to use the SGD model to classify all 10 numbers at once.\n",
    "# As the SGD classifier is a linear classifier, scikit learn will know to perform\n",
    "# a OvA (one-versus-all) strategy.\n",
    "# That menas that it will train one SGD model to classify each number separately\n",
    "\n",
    "sgd_class = SGDClassifier(random_state=42)\n",
    "sgd_class.fit(X_train, y_train)"
   ]
  },
  {
   "cell_type": "code",
   "execution_count": 43,
   "metadata": {},
   "outputs": [
    {
     "output_type": "stream",
     "name": "stdout",
     "text": [
      "Predicted: [0.]\n"
     ]
    },
    {
     "output_type": "display_data",
     "data": {
      "text/plain": "<Figure size 432x288 with 1 Axes>",
      "image/svg+xml": "<?xml version=\"1.0\" encoding=\"utf-8\" standalone=\"no\"?>\n<!DOCTYPE svg PUBLIC \"-//W3C//DTD SVG 1.1//EN\"\n  \"http://www.w3.org/Graphics/SVG/1.1/DTD/svg11.dtd\">\n<!-- Created with matplotlib (http://matplotlib.org/) -->\n<svg height=\"252.018125pt\" version=\"1.1\" viewBox=\"0 0 255.065 252.018125\" width=\"255.065pt\" xmlns=\"http://www.w3.org/2000/svg\" xmlns:xlink=\"http://www.w3.org/1999/xlink\">\n <defs>\n  <style type=\"text/css\">\n*{stroke-linecap:butt;stroke-linejoin:round;}\n  </style>\n </defs>\n <g id=\"figure_1\">\n  <g id=\"patch_1\">\n   <path d=\"M 0 252.018125 \nL 255.065 252.018125 \nL 255.065 0 \nL 0 0 \nz\n\" style=\"fill:none;\"/>\n  </g>\n  <g id=\"axes_1\">\n   <g clip-path=\"url(#paf71d5fbc0)\">\n    <image height=\"218\" id=\"image32f817dd3c\" transform=\"scale(1 -1)translate(0 -218)\" width=\"218\" x=\"26.925\" xlink:href=\"data:image/png;base64,\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\" y=\"-10.14\"/>\n   </g>\n  </g>\n </g>\n <defs>\n  <clipPath id=\"paf71d5fbc0\">\n   <rect height=\"217.44\" width=\"217.44\" x=\"26.925\" y=\"10.7\"/>\n  </clipPath>\n </defs>\n</svg>\n",
      "image/png": "[encoded data removed]"
     },
     "metadata": {
      "needs_background": "light"
     }
    }
   ],
   "source": [
    "# Verifying the prediction by passing a random number image\n",
    "\n",
    "def prediction_print(model):\n",
    "    rand = random.randint(0, 10000)\n",
    "    X_example = X_train[rand]\n",
    "    y_example = y_train[rand]\n",
    "\n",
    "    %matplotlib inline\n",
    "    plt.imshow(X_example.reshape(28,28), cmap=matplotlib.cm.binary, interpolation=\"nearest\")\n",
    "    plt.axis('off')\n",
    "\n",
    "    # score_example = sgd_class.decision_function([X_example])\n",
    "    prediction_example = model.predict([X_example])\n",
    "\n",
    "    print(f'Predicted: {prediction_example}')\n",
    "\n",
    "prediction_print(sgd_class)"
   ]
  },
  {
   "cell_type": "code",
   "execution_count": 40,
   "metadata": {},
   "outputs": [
    {
     "output_type": "execute_result",
     "data": {
      "text/plain": [
       "RandomForestClassifier(bootstrap=True, class_weight=None, criterion='gini',\n",
       "                       max_depth=None, max_features='auto', max_leaf_nodes=None,\n",
       "                       min_impurity_decrease=0.0, min_impurity_split=None,\n",
       "                       min_samples_leaf=1, min_samples_split=2,\n",
       "                       min_weight_fraction_leaf=0.0, n_estimators=10,\n",
       "                       n_jobs=None, oob_score=False, random_state=42, verbose=0,\n",
       "                       warm_start=False)"
      ]
     },
     "metadata": {},
     "execution_count": 40
    }
   ],
   "source": [
    "# We can also train the Random Forest model.\n",
    "# This time no OvA/OvO will be needed as the model itself is capable of multinomial classification\n",
    "\n",
    "forest_class = RandomForestClassifier(random_state=42)\n",
    "forest_class.fit(X_train, y_train)"
   ]
  },
  {
   "cell_type": "code",
   "execution_count": 48,
   "metadata": {},
   "outputs": [
    {
     "output_type": "stream",
     "name": "stdout",
     "text": [
      "Predicted: [2.]\n"
     ]
    },
    {
     "output_type": "display_data",
     "data": {
      "text/plain": "<Figure size 432x288 with 1 Axes>",
      "image/svg+xml": "<?xml version=\"1.0\" encoding=\"utf-8\" standalone=\"no\"?>\n<!DOCTYPE svg PUBLIC \"-//W3C//DTD SVG 1.1//EN\"\n  \"http://www.w3.org/Graphics/SVG/1.1/DTD/svg11.dtd\">\n<!-- Created with matplotlib (http://matplotlib.org/) -->\n<svg height=\"252.018125pt\" version=\"1.1\" viewBox=\"0 0 255.065 252.018125\" width=\"255.065pt\" xmlns=\"http://www.w3.org/2000/svg\" xmlns:xlink=\"http://www.w3.org/1999/xlink\">\n <defs>\n  <style type=\"text/css\">\n*{stroke-linecap:butt;stroke-linejoin:round;}\n  </style>\n </defs>\n <g id=\"figure_1\">\n  <g id=\"patch_1\">\n   <path d=\"M 0 252.018125 \nL 255.065 252.018125 \nL 255.065 0 \nL 0 0 \nz\n\" style=\"fill:none;\"/>\n  </g>\n  <g id=\"axes_1\">\n   <g clip-path=\"url(#p4eb3737a85)\">\n    <image height=\"218\" id=\"image5203b23126\" transform=\"scale(1 -1)translate(0 -218)\" width=\"218\" x=\"26.925\" xlink:href=\"data:image/png;base64,\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\" y=\"-10.14\"/>\n   </g>\n  </g>\n </g>\n <defs>\n  <clipPath id=\"p4eb3737a85\">\n   <rect height=\"217.44\" width=\"217.44\" x=\"26.925\" y=\"10.7\"/>\n  </clipPath>\n </defs>\n</svg>\n",
      "image/png": "[encoded data removed]"
     },
     "metadata": {
      "needs_background": "light"
     }
    }
   ],
   "source": [
    "# Visualising thge prediction\n",
    "\n",
    "prediction_print(forest_class)"
   ]
  },
  {
   "cell_type": "code",
   "execution_count": 51,
   "metadata": {},
   "outputs": [
    {
     "output_type": "execute_result",
     "data": {
      "text/plain": [
       "array([[0., 0., 0., 0., 0., 0., 0., 1., 0., 0.]])"
      ]
     },
     "metadata": {},
     "execution_count": 51
    }
   ],
   "source": [
    "# We can additionally see the list of probabilities of the rf model\n",
    "\n",
    "# In this case the model is 100% sure that the digit ion the picture is a 7\n",
    "forest_class.predict_proba([X_train[36000]])"
   ]
  },
  {
   "source": [
    "## Model Validations"
   ],
   "cell_type": "markdown",
   "metadata": {}
  },
  {
   "cell_type": "code",
   "execution_count": 52,
   "metadata": {},
   "outputs": [
    {
     "output_type": "stream",
     "name": "stdout",
     "text": [
      "[0.86731327 0.8804     0.88283828]\n"
     ]
    }
   ],
   "source": [
    "# Evaluating the SDG model by cross validation with accuracy as the score\n",
    "sdg_accuracy = cross_val_score(sgd_class, X_train, y_train, cv=3, scoring='accuracy')"
   ]
  },
  {
   "cell_type": "code",
   "execution_count": 55,
   "metadata": {},
   "outputs": [
    {
     "output_type": "execute_result",
     "data": {
      "text/plain": [
       "array([0.89986001, 0.9066    , 0.89943994])"
      ]
     },
     "metadata": {},
     "execution_count": 55
    }
   ],
   "source": [
    "# Evaluating the SDG model using standardised trauining data.\n",
    "# This will most likely improve the accuracy score of the model as all the features of \n",
    "# each datapoint will be standardised\n",
    "\n",
    "scaler = StandardScaler()\n",
    "X_train_scaled = scaler.fit_transform(X_train.astype(np.float64))\n",
    "cross_val_score(sgd_class, X_train_scaled, y_train, cv=3, scoring='accuracy')"
   ]
  },
  {
   "source": [
    "## Error analysis"
   ],
   "cell_type": "markdown",
   "metadata": {}
  },
  {
   "cell_type": "code",
   "execution_count": 56,
   "metadata": {},
   "outputs": [
    {
     "output_type": "execute_result",
     "data": {
      "text/plain": [
       "array([[5629,    0,   18,    8,    7,   43,   36,    7,  213,    1],\n",
       "       [   0, 6403,   35,   20,    4,   43,   10,    8,  178,   13],\n",
       "       [  25,   28, 5256,   84,   74,   25,   69,   39,  362,   12],\n",
       "       [  26,   19,  117, 5215,    1,  190,   26,   32,  376,   69],\n",
       "       [   8,   12,   40,   11, 5235,    9,   38,   23,  290,  163],\n",
       "       [  30,   13,   25,  160,   59, 4476,   89,   20,  479,   66],\n",
       "       [  29,   20,   51,    2,   41,   90, 5572,    9,  132,    0],\n",
       "       [  25,    9,   61,   27,   43,    9,    4, 5681,  153,  225],\n",
       "       [  15,   49,   48,   88,    5,  122,   27,    6, 5435,   49],\n",
       "       [  24,   21,   25,   61,  122,   35,    1,  178,  323, 5216]])"
      ]
     },
     "metadata": {},
     "execution_count": 56
    }
   ],
   "source": [
    "# In order to detect the flaws of the system, we could look at the confusion matrix\n",
    "# and verify where the model is making the most mistakes\n",
    "y_train_pred = cross_val_predict(sgd_class, X_train_scaled, y_train)\n",
    "sdg_conf_mtx = confusion_matrix(y_train, y_train_pred)\n",
    "\n",
    "sdg_conf_mtx"
   ]
  },
  {
   "cell_type": "code",
   "execution_count": 57,
   "metadata": {},
   "outputs": [
    {
     "output_type": "display_data",
     "data": {
      "text/plain": "<Figure size 288x288 with 1 Axes>",
      "image/svg+xml": "<?xml version=\"1.0\" encoding=\"utf-8\" standalone=\"no\"?>\n<!DOCTYPE svg PUBLIC \"-//W3C//DTD SVG 1.1//EN\"\n  \"http://www.w3.org/Graphics/SVG/1.1/DTD/svg11.dtd\">\n<!-- Created with matplotlib (http://matplotlib.org/) -->\n<svg height=\"257.778125pt\" version=\"1.1\" viewBox=\"0 0 254.4625 257.778125\" width=\"254.4625pt\" xmlns=\"http://www.w3.org/2000/svg\" xmlns:xlink=\"http://www.w3.org/1999/xlink\">\n <defs>\n  <style type=\"text/css\">\n*{stroke-linecap:butt;stroke-linejoin:round;}\n  </style>\n </defs>\n <g id=\"figure_1\">\n  <g id=\"patch_1\">\n   <path d=\"M 0 257.778125 \nL 254.4625 257.778125 \nL 254.4625 0 \nL 0 0 \nz\n\" style=\"fill:none;\"/>\n  </g>\n  <g id=\"axes_1\">\n   <g id=\"patch_2\">\n    <path d=\"M 20.5625 247.078125 \nL 243.7625 247.078125 \nL 243.7625 23.878125 \nL 20.5625 23.878125 \nz\n\" style=\"fill:#ffffff;\"/>\n   </g>\n   <g clip-path=\"url(#p7d0631dd1c)\">\n    <image height=\"224\" id=\"image46a63a4a6d\" transform=\"scale(1 -1)translate(0 -224)\" width=\"224\" x=\"20.5625\" xlink:href=\"data:image/png;base64,\niVBORw0KGgoAAAANSUhEUgAAAOAAAADgCAYAAAAaLWrhAAAABHNCSVQICAgIfAhkiAAABAtJREFUeJzt3DFKXQsUhtF99apFwBmkCgE7ceROwjIELCVVyAAsjYnRDOHxHuz3Iaw1gJ/D8X6ebh9m5m2YmZmTk5N3t/3nz5+V3be3vZ/FxcXFyu7Z2dnK7szM3d3dyu7eLw74RwKEkAAhJEAICRBCAoSQACEkQAgJEEIChJAAISRACAkQQgKEkAAhJEAICRBCAoSQACEkQAgJEEKHWbqKdjgcNmZXbV5F27pedjweV3a3nndm7+Law8PDyu7MzNXV1cquLyCEBAghAUJIgBASIIQECCEBQkiAEBIghAQIIQFCSIAQEiCEBAghAUJIgBASIIQECCEBQkiAEBIghAQIobWzhJu2zgduncvb9B6f+cePHyu7nz59Wtmd2fvN+QJCSIAQEiCEBAghAUJIgBASIIQECCEBQkiAEBIghAQIIQFCSIAQEiCEBAghAUJIgBASIIQECCEBQuh4OBxWht/jta7NZ956z6enpyu73759W9mdmfn48ePK7tnZ2cruzMzPnz9Xdn0BISRACAkQQgKEkAAhJEAICRBCAoSQACEkQAgJEEIChJAAISRACAkQQgKEkAAhJEAICRBCAoSQACEkQAgd6wf4L15fX1d2z8/PV3ZnZl5eXlZ2b29vV3Y/f/68srvp8vJybfvx8XFl1xcQQgKEkAAhJEAICRBCAoSQACEkQAgJEEIChJAAISRACAkQQgKEkAAhJEAICRBCAoSQACEkQAgJEEKHmXmrH+LfOhwOK7tvb3uv4v7+fmX3+vp6ZXfrHc/svecPHz6s7M7M/P79e2XXFxBCAoSQACEkQAgJEEIChJAAISRACAkQQgKEkAAhJEAICRBCAoSQACEkQAgJEEIChJAAISRACAkQQsf3eGHs9PR0ZffLly8ruzN718suLi5Wdn/9+rWyO7N3ce14PK7szsw8PT2t7PoCQkiAEBIghAQIIQFCSIAQEiCEBAghAUJIgBASIIQECCEBQkiAEBIghAQIIQFCSIAQEiCEBAghAUJIgBA6bp0P3Do9NzPz9evXld2bm5uV3ZmZk5Od/3XPz88ru1vPO7N3snLzFObr6+vKri8ghAQIIQFCSIAQEiCEBAghAUJIgBASIIQECCEBQkiAEBIghAQIIQFCSIAQEiCEBAghAUJIgBASIISOW8NbV6Rm9i52bV7V2rJ1fW7z77dl60LcJl9ACAkQQgKEkAAhJEAICRBCAoSQACEkQAgJEEIChJAAISRACAkQQgKEkAAhJEAICRBCAoSQACEkQAgJEELH79+/rwxvncvj/7H599s6//gef3O+gBASIIQECCEBQkiAEBIghAQIIQFCSIAQEiCEBAghAUJIgBASIIQECCEBQkiAEBIghAQIIQFCSIAQ+gsZ0nYk0w4fNgAAAABJRU5ErkJggg==\" y=\"-23.078125\"/>\n   </g>\n   <g id=\"matplotlib.axis_1\">\n    <g id=\"xtick_1\">\n     <g id=\"line2d_1\">\n      <defs>\n       <path d=\"M 0 0 \nL 0 3.5 \n\" id=\"m3bdc74e455\" style=\"stroke:#000000;stroke-width:0.8;\"/>\n      </defs>\n      <g>\n       <use style=\"stroke:#000000;stroke-width:0.8;\" x=\"31.7225\" xlink:href=\"#m3bdc74e455\" y=\"247.078125\"/>\n      </g>\n     </g>\n     <g id=\"line2d_2\">\n      <defs>\n       <path d=\"M 0 0 \nL 0 -3.5 \n\" id=\"m91f0eb10ab\" style=\"stroke:#000000;stroke-width:0.8;\"/>\n      </defs>\n      <g>\n       <use style=\"stroke:#000000;stroke-width:0.8;\" x=\"31.7225\" xlink:href=\"#m91f0eb10ab\" y=\"23.878125\"/>\n      </g>\n     </g>\n     <g id=\"text_1\">\n      <!-- 0 -->\n      <defs>\n       <path d=\"M 31.78125 66.40625 \nQ 24.171875 66.40625 20.328125 58.90625 \nQ 16.5 51.421875 16.5 36.375 \nQ 16.5 21.390625 20.328125 13.890625 \nQ 24.171875 6.390625 31.78125 6.390625 \nQ 39.453125 6.390625 43.28125 13.890625 \nQ 47.125 21.390625 47.125 36.375 \nQ 47.125 51.421875 43.28125 58.90625 \nQ 39.453125 66.40625 31.78125 66.40625 \nz\nM 31.78125 74.21875 \nQ 44.046875 74.21875 50.515625 64.515625 \nQ 56.984375 54.828125 56.984375 36.375 \nQ 56.984375 17.96875 50.515625 8.265625 \nQ 44.046875 -1.421875 31.78125 -1.421875 \nQ 19.53125 -1.421875 13.0625 8.265625 \nQ 6.59375 17.96875 6.59375 36.375 \nQ 6.59375 54.828125 13.0625 64.515625 \nQ 19.53125 74.21875 31.78125 74.21875 \nz\n\" id=\"DejaVuSans-30\"/>\n      </defs>\n      <g transform=\"translate(28.54125 14.798438)scale(0.1 -0.1)\">\n       <use xlink:href=\"#DejaVuSans-30\"/>\n      </g>\n     </g>\n    </g>\n    <g id=\"xtick_2\">\n     <g id=\"line2d_3\">\n      <g>\n       <use style=\"stroke:#000000;stroke-width:0.8;\" x=\"76.3625\" xlink:href=\"#m3bdc74e455\" y=\"247.078125\"/>\n      </g>\n     </g>\n     <g id=\"line2d_4\">\n      <g>\n       <use style=\"stroke:#000000;stroke-width:0.8;\" x=\"76.3625\" xlink:href=\"#m91f0eb10ab\" y=\"23.878125\"/>\n      </g>\n     </g>\n     <g id=\"text_2\">\n      <!-- 2 -->\n      <defs>\n       <path d=\"M 19.1875 8.296875 \nL 53.609375 8.296875 \nL 53.609375 0 \nL 7.328125 0 \nL 7.328125 8.296875 \nQ 12.9375 14.109375 22.625 23.890625 \nQ 32.328125 33.6875 34.8125 36.53125 \nQ 39.546875 41.84375 41.421875 45.53125 \nQ 43.3125 49.21875 43.3125 52.78125 \nQ 43.3125 58.59375 39.234375 62.25 \nQ 35.15625 65.921875 28.609375 65.921875 \nQ 23.96875 65.921875 18.8125 64.3125 \nQ 13.671875 62.703125 7.8125 59.421875 \nL 7.8125 69.390625 \nQ 13.765625 71.78125 18.9375 73 \nQ 24.125 74.21875 28.421875 74.21875 \nQ 39.75 74.21875 46.484375 68.546875 \nQ 53.21875 62.890625 53.21875 53.421875 \nQ 53.21875 48.921875 51.53125 44.890625 \nQ 49.859375 40.875 45.40625 35.40625 \nQ 44.1875 33.984375 37.640625 27.21875 \nQ 31.109375 20.453125 19.1875 8.296875 \nz\n\" id=\"DejaVuSans-32\"/>\n      </defs>\n      <g transform=\"translate(73.18125 14.798438)scale(0.1 -0.1)\">\n       <use xlink:href=\"#DejaVuSans-32\"/>\n      </g>\n     </g>\n    </g>\n    <g id=\"xtick_3\">\n     <g id=\"line2d_5\">\n      <g>\n       <use style=\"stroke:#000000;stroke-width:0.8;\" x=\"121.0025\" xlink:href=\"#m3bdc74e455\" y=\"247.078125\"/>\n      </g>\n     </g>\n     <g id=\"line2d_6\">\n      <g>\n       <use style=\"stroke:#000000;stroke-width:0.8;\" x=\"121.0025\" xlink:href=\"#m91f0eb10ab\" y=\"23.878125\"/>\n      </g>\n     </g>\n     <g id=\"text_3\">\n      <!-- 4 -->\n      <defs>\n       <path d=\"M 37.796875 64.3125 \nL 12.890625 25.390625 \nL 37.796875 25.390625 \nz\nM 35.203125 72.90625 \nL 47.609375 72.90625 \nL 47.609375 25.390625 \nL 58.015625 25.390625 \nL 58.015625 17.1875 \nL 47.609375 17.1875 \nL 47.609375 0 \nL 37.796875 0 \nL 37.796875 17.1875 \nL 4.890625 17.1875 \nL 4.890625 26.703125 \nz\n\" id=\"DejaVuSans-34\"/>\n      </defs>\n      <g transform=\"translate(117.82125 14.798438)scale(0.1 -0.1)\">\n       <use xlink:href=\"#DejaVuSans-34\"/>\n      </g>\n     </g>\n    </g>\n    <g id=\"xtick_4\">\n     <g id=\"line2d_7\">\n      <g>\n       <use style=\"stroke:#000000;stroke-width:0.8;\" x=\"165.6425\" xlink:href=\"#m3bdc74e455\" y=\"247.078125\"/>\n      </g>\n     </g>\n     <g id=\"line2d_8\">\n      <g>\n       <use style=\"stroke:#000000;stroke-width:0.8;\" x=\"165.6425\" xlink:href=\"#m91f0eb10ab\" y=\"23.878125\"/>\n      </g>\n     </g>\n     <g id=\"text_4\">\n      <!-- 6 -->\n      <defs>\n       <path d=\"M 33.015625 40.375 \nQ 26.375 40.375 22.484375 35.828125 \nQ 18.609375 31.296875 18.609375 23.390625 \nQ 18.609375 15.53125 22.484375 10.953125 \nQ 26.375 6.390625 33.015625 6.390625 \nQ 39.65625 6.390625 43.53125 10.953125 \nQ 47.40625 15.53125 47.40625 23.390625 \nQ 47.40625 31.296875 43.53125 35.828125 \nQ 39.65625 40.375 33.015625 40.375 \nz\nM 52.59375 71.296875 \nL 52.59375 62.3125 \nQ 48.875 64.0625 45.09375 64.984375 \nQ 41.3125 65.921875 37.59375 65.921875 \nQ 27.828125 65.921875 22.671875 59.328125 \nQ 17.53125 52.734375 16.796875 39.40625 \nQ 19.671875 43.65625 24.015625 45.921875 \nQ 28.375 48.1875 33.59375 48.1875 \nQ 44.578125 48.1875 50.953125 41.515625 \nQ 57.328125 34.859375 57.328125 23.390625 \nQ 57.328125 12.15625 50.6875 5.359375 \nQ 44.046875 -1.421875 33.015625 -1.421875 \nQ 20.359375 -1.421875 13.671875 8.265625 \nQ 6.984375 17.96875 6.984375 36.375 \nQ 6.984375 53.65625 15.1875 63.9375 \nQ 23.390625 74.21875 37.203125 74.21875 \nQ 40.921875 74.21875 44.703125 73.484375 \nQ 48.484375 72.75 52.59375 71.296875 \nz\n\" id=\"DejaVuSans-36\"/>\n      </defs>\n      <g transform=\"translate(162.46125 14.798438)scale(0.1 -0.1)\">\n       <use xlink:href=\"#DejaVuSans-36\"/>\n      </g>\n     </g>\n    </g>\n    <g id=\"xtick_5\">\n     <g id=\"line2d_9\">\n      <g>\n       <use style=\"stroke:#000000;stroke-width:0.8;\" x=\"210.2825\" xlink:href=\"#m3bdc74e455\" y=\"247.078125\"/>\n      </g>\n     </g>\n     <g id=\"line2d_10\">\n      <g>\n       <use style=\"stroke:#000000;stroke-width:0.8;\" x=\"210.2825\" xlink:href=\"#m91f0eb10ab\" y=\"23.878125\"/>\n      </g>\n     </g>\n     <g id=\"text_5\">\n      <!-- 8 -->\n      <defs>\n       <path d=\"M 31.78125 34.625 \nQ 24.75 34.625 20.71875 30.859375 \nQ 16.703125 27.09375 16.703125 20.515625 \nQ 16.703125 13.921875 20.71875 10.15625 \nQ 24.75 6.390625 31.78125 6.390625 \nQ 38.8125 6.390625 42.859375 10.171875 \nQ 46.921875 13.96875 46.921875 20.515625 \nQ 46.921875 27.09375 42.890625 30.859375 \nQ 38.875 34.625 31.78125 34.625 \nz\nM 21.921875 38.8125 \nQ 15.578125 40.375 12.03125 44.71875 \nQ 8.5 49.078125 8.5 55.328125 \nQ 8.5 64.0625 14.71875 69.140625 \nQ 20.953125 74.21875 31.78125 74.21875 \nQ 42.671875 74.21875 48.875 69.140625 \nQ 55.078125 64.0625 55.078125 55.328125 \nQ 55.078125 49.078125 51.53125 44.71875 \nQ 48 40.375 41.703125 38.8125 \nQ 48.828125 37.15625 52.796875 32.3125 \nQ 56.78125 27.484375 56.78125 20.515625 \nQ 56.78125 9.90625 50.3125 4.234375 \nQ 43.84375 -1.421875 31.78125 -1.421875 \nQ 19.734375 -1.421875 13.25 4.234375 \nQ 6.78125 9.90625 6.78125 20.515625 \nQ 6.78125 27.484375 10.78125 32.3125 \nQ 14.796875 37.15625 21.921875 38.8125 \nz\nM 18.3125 54.390625 \nQ 18.3125 48.734375 21.84375 45.5625 \nQ 25.390625 42.390625 31.78125 42.390625 \nQ 38.140625 42.390625 41.71875 45.5625 \nQ 45.3125 48.734375 45.3125 54.390625 \nQ 45.3125 60.0625 41.71875 63.234375 \nQ 38.140625 66.40625 31.78125 66.40625 \nQ 25.390625 66.40625 21.84375 63.234375 \nQ 18.3125 60.0625 18.3125 54.390625 \nz\n\" id=\"DejaVuSans-38\"/>\n      </defs>\n      <g transform=\"translate(207.10125 14.798438)scale(0.1 -0.1)\">\n       <use xlink:href=\"#DejaVuSans-38\"/>\n      </g>\n     </g>\n    </g>\n   </g>\n   <g id=\"matplotlib.axis_2\">\n    <g id=\"ytick_1\">\n     <g id=\"line2d_11\">\n      <defs>\n       <path d=\"M 0 0 \nL -3.5 0 \n\" id=\"m94c095d919\" style=\"stroke:#000000;stroke-width:0.8;\"/>\n      </defs>\n      <g>\n       <use style=\"stroke:#000000;stroke-width:0.8;\" x=\"20.5625\" xlink:href=\"#m94c095d919\" y=\"35.038125\"/>\n      </g>\n     </g>\n     <g id=\"text_6\">\n      <!-- 0 -->\n      <g transform=\"translate(7.2 38.837344)scale(0.1 -0.1)\">\n       <use xlink:href=\"#DejaVuSans-30\"/>\n      </g>\n     </g>\n    </g>\n    <g id=\"ytick_2\">\n     <g id=\"line2d_12\">\n      <g>\n       <use style=\"stroke:#000000;stroke-width:0.8;\" x=\"20.5625\" xlink:href=\"#m94c095d919\" y=\"79.678125\"/>\n      </g>\n     </g>\n     <g id=\"text_7\">\n      <!-- 2 -->\n      <g transform=\"translate(7.2 83.477344)scale(0.1 -0.1)\">\n       <use xlink:href=\"#DejaVuSans-32\"/>\n      </g>\n     </g>\n    </g>\n    <g id=\"ytick_3\">\n     <g id=\"line2d_13\">\n      <g>\n       <use style=\"stroke:#000000;stroke-width:0.8;\" x=\"20.5625\" xlink:href=\"#m94c095d919\" y=\"124.318125\"/>\n      </g>\n     </g>\n     <g id=\"text_8\">\n      <!-- 4 -->\n      <g transform=\"translate(7.2 128.117344)scale(0.1 -0.1)\">\n       <use xlink:href=\"#DejaVuSans-34\"/>\n      </g>\n     </g>\n    </g>\n    <g id=\"ytick_4\">\n     <g id=\"line2d_14\">\n      <g>\n       <use style=\"stroke:#000000;stroke-width:0.8;\" x=\"20.5625\" xlink:href=\"#m94c095d919\" y=\"168.958125\"/>\n      </g>\n     </g>\n     <g id=\"text_9\">\n      <!-- 6 -->\n      <g transform=\"translate(7.2 172.757344)scale(0.1 -0.1)\">\n       <use xlink:href=\"#DejaVuSans-36\"/>\n      </g>\n     </g>\n    </g>\n    <g id=\"ytick_5\">\n     <g id=\"line2d_15\">\n      <g>\n       <use style=\"stroke:#000000;stroke-width:0.8;\" x=\"20.5625\" xlink:href=\"#m94c095d919\" y=\"213.598125\"/>\n      </g>\n     </g>\n     <g id=\"text_10\">\n      <!-- 8 -->\n      <g transform=\"translate(7.2 217.397344)scale(0.1 -0.1)\">\n       <use xlink:href=\"#DejaVuSans-38\"/>\n      </g>\n     </g>\n    </g>\n   </g>\n   <g id=\"patch_3\">\n    <path d=\"M 20.5625 247.078125 \nL 20.5625 23.878125 \n\" style=\"fill:none;stroke:#000000;stroke-linecap:square;stroke-linejoin:miter;stroke-width:0.8;\"/>\n   </g>\n   <g id=\"patch_4\">\n    <path d=\"M 243.7625 247.078125 \nL 243.7625 23.878125 \n\" style=\"fill:none;stroke:#000000;stroke-linecap:square;stroke-linejoin:miter;stroke-width:0.8;\"/>\n   </g>\n   <g id=\"patch_5\">\n    <path d=\"M 20.5625 247.078125 \nL 243.7625 247.078125 \n\" style=\"fill:none;stroke:#000000;stroke-linecap:square;stroke-linejoin:miter;stroke-width:0.8;\"/>\n   </g>\n   <g id=\"patch_6\">\n    <path d=\"M 20.5625 23.878125 \nL 243.7625 23.878125 \n\" style=\"fill:none;stroke:#000000;stroke-linecap:square;stroke-linejoin:miter;stroke-width:0.8;\"/>\n   </g>\n  </g>\n </g>\n <defs>\n  <clipPath id=\"p7d0631dd1c\">\n   <rect height=\"223.2\" width=\"223.2\" x=\"20.5625\" y=\"23.878125\"/>\n  </clipPath>\n </defs>\n</svg>\n",
      "image/png": "[encoded data removed]"
     },
     "metadata": {
      "needs_background": "light"
     }
    }
   ],
   "source": [
    "# It's more visible on a graph showing the scale of the confusion.\n",
    "# Each row represents a class and each column represents the prediction.\n",
    "\n",
    "plt.matshow(sdg_conf_mtx, cmap=plt.cm.gray)\n",
    "plt.show()"
   ]
  },
  {
   "cell_type": "code",
   "execution_count": 62,
   "metadata": {},
   "outputs": [
    {
     "output_type": "display_data",
     "data": {
      "text/plain": "<Figure size 288x288 with 1 Axes>",
      "image/svg+xml": "<?xml version=\"1.0\" encoding=\"utf-8\" standalone=\"no\"?>\n<!DOCTYPE svg PUBLIC \"-//W3C//DTD SVG 1.1//EN\"\n  \"http://www.w3.org/Graphics/SVG/1.1/DTD/svg11.dtd\">\n<!-- Created with matplotlib (http://matplotlib.org/) -->\n<svg height=\"257.778125pt\" version=\"1.1\" viewBox=\"0 0 254.4625 257.778125\" width=\"254.4625pt\" xmlns=\"http://www.w3.org/2000/svg\" xmlns:xlink=\"http://www.w3.org/1999/xlink\">\n <defs>\n  <style type=\"text/css\">\n*{stroke-linecap:butt;stroke-linejoin:round;}\n  </style>\n </defs>\n <g id=\"figure_1\">\n  <g id=\"patch_1\">\n   <path d=\"M 0 257.778125 \nL 254.4625 257.778125 \nL 254.4625 0 \nL 0 0 \nz\n\" style=\"fill:none;\"/>\n  </g>\n  <g id=\"axes_1\">\n   <g id=\"patch_2\">\n    <path d=\"M 20.5625 247.078125 \nL 243.7625 247.078125 \nL 243.7625 23.878125 \nL 20.5625 23.878125 \nz\n\" style=\"fill:#ffffff;\"/>\n   </g>\n   <g clip-path=\"url(#pdc10d644af)\">\n    <image height=\"224\" id=\"image8666d2ad4a\" transform=\"scale(1 -1)translate(0 -224)\" width=\"224\" x=\"20.5625\" xlink:href=\"data:image/png;base64,\niVBORw0KGgoAAAANSUhEUgAAAOAAAADgCAYAAAAaLWrhAAAABHNCSVQICAgIfAhkiAAABLdJREFUeJzt3DFq1GsYxeGTmZEgwWgghSAWkoDp7F2AmgVkCVlKekv3YWVnq52FsbCysI/BCMMkzt3CvRdeTvM8CzgM4f/L1707e3t72wzYbkdmkySLxWJk9+DgYGQ3SZ4+fTqye3l5ObJ7dXU1spskZ2dnI7uvXr0a2U2S8/Pzkd2ZLxn4VwQIRQKEIgFCkQChSIBQJEAoEiAUCRCKBAhFAoQiAUKRAKFIgFAkQCgSIBQJEIoECEUChCIBQpEAoWhnd3d35HzZ5IWxqYtrh4eHI7tJ8u3bt5Hdly9fjux++fJlZDdJbm5uRnb//v07spskjx8/Htn1AkKRAKFIgFAkQCgSIBQJEIoECEUChCIBQpEAoUiAUCRAKBIgFAkQigQIRQKEIgFCkQChSIBQJEAoEiAUCRCKdvb29kZu/K3X64nZJHMn4q6urkZ2k2R3d3dk99evXyO7d3d3I7vJ3FnJ169fj+wmybNnz0Z2vYBQJEAoEiAUCRCKBAhFAoQiAUKRAKFIgFAkQCgSIBQJEIoECEUChCIBQpEAoUiAUCRAKBIgFAkQigQIRavlcjkyfO/evZHdJLm9vR3Z/f3798huMncV7fnz5yO7X79+HdlNktVqNbI7eYnv3bt3I7teQCgSIBQJEIoECEUChCIBQpEAoUiAUCRAKBIgFAkQigQIRQKEIgFCkQChSIBQJEAoEiAUCRCKBAhFAoQiAULRzqNHj7YTw3/+/JmYTTJ34u/Nmzcju0ny+fPnkd0fP36M7L548WJkN0m+f/8+sntzczOymyTHx8cju15AKBIgFAkQigQIRQKEIgFCkQChSIBQJEAoEiAUCRCKBAhFAoQiAUKRAKFIgFAkQCgSIBQJEIoECEUChKKd5XI5chVtsZhre39/f2T3+vp6ZDdJNpvNyO5qtRrZnfobJ8l6vR7Zvbi4GNlNko8fP47segGhSIBQJEAoEiAUCRCKBAhFAoQiAUKRAKFIgFAkQCgSIBQJEIoECEUChCIBQpEAoUiAUCRAKBIgFAkQilb3798fGb67uxvZTZLj4+OR3U+fPo3sTjo7OxvZff/+/chuMnfJ7ejoaGQ3Sd6+fTuy6wWEIgFCkQChSIBQJEAoEiAUCRCKBAhFAoQiAUKRAKFIgFAkQCgSIBQJEIoECEUChCIBQpEAoUiAUCRAKBIgFM3ch8vc6blk7nzgycnJyG6SbDabkd2p84GHh4cju0lyfX09snt7ezuymyQ/f/4c2fUCQpEAoUiAUCRAKBIgFAkQigQIRQKEIgFCkQChSIBQJEAoEiAUCRCKBAhFAoQiAUKRAKFIgFAkQCgSIBTtJNm2f8R/9fDhw5Hd9Xo9sju5fXBwMLI7dbksSbbbmU/u9PR0ZDdJPnz4MLLrBYQiAUKRAKFIgFAkQCgSIBQJEIoECEUChCIBQpEAoUiAUCRAKBIgFAkQigQIRQKEIgFCkQChSIBQJEAoEiAUrdo/4P+YOvG32WxGdpNksZj5Xze1++DBg5HdZO7k4ZMnT0Z2k7lvwwsIRQKEIgFCkQChSIBQJEAoEiAUCRCKBAhFAoQiAUKRAKFIgFAkQCgSIBQJEIoECEUChCIBQpEAoUiAUPQPErCUMMvac9sAAAAASUVORK5CYII=\" y=\"-23.078125\"/>\n   </g>\n   <g id=\"matplotlib.axis_1\">\n    <g id=\"xtick_1\">\n     <g id=\"line2d_1\">\n      <defs>\n       <path d=\"M 0 0 \nL 0 3.5 \n\" id=\"m0fe541c682\" style=\"stroke:#000000;stroke-width:0.8;\"/>\n      </defs>\n      <g>\n       <use style=\"stroke:#000000;stroke-width:0.8;\" x=\"31.7225\" xlink:href=\"#m0fe541c682\" y=\"247.078125\"/>\n      </g>\n     </g>\n     <g id=\"line2d_2\">\n      <defs>\n       <path d=\"M 0 0 \nL 0 -3.5 \n\" id=\"m7661f6cf60\" style=\"stroke:#000000;stroke-width:0.8;\"/>\n      </defs>\n      <g>\n       <use style=\"stroke:#000000;stroke-width:0.8;\" x=\"31.7225\" xlink:href=\"#m7661f6cf60\" y=\"23.878125\"/>\n      </g>\n     </g>\n     <g id=\"text_1\">\n      <!-- 0 -->\n      <defs>\n       <path d=\"M 31.78125 66.40625 \nQ 24.171875 66.40625 20.328125 58.90625 \nQ 16.5 51.421875 16.5 36.375 \nQ 16.5 21.390625 20.328125 13.890625 \nQ 24.171875 6.390625 31.78125 6.390625 \nQ 39.453125 6.390625 43.28125 13.890625 \nQ 47.125 21.390625 47.125 36.375 \nQ 47.125 51.421875 43.28125 58.90625 \nQ 39.453125 66.40625 31.78125 66.40625 \nz\nM 31.78125 74.21875 \nQ 44.046875 74.21875 50.515625 64.515625 \nQ 56.984375 54.828125 56.984375 36.375 \nQ 56.984375 17.96875 50.515625 8.265625 \nQ 44.046875 -1.421875 31.78125 -1.421875 \nQ 19.53125 -1.421875 13.0625 8.265625 \nQ 6.59375 17.96875 6.59375 36.375 \nQ 6.59375 54.828125 13.0625 64.515625 \nQ 19.53125 74.21875 31.78125 74.21875 \nz\n\" id=\"DejaVuSans-30\"/>\n      </defs>\n      <g transform=\"translate(28.54125 14.798438)scale(0.1 -0.1)\">\n       <use xlink:href=\"#DejaVuSans-30\"/>\n      </g>\n     </g>\n    </g>\n    <g id=\"xtick_2\">\n     <g id=\"line2d_3\">\n      <g>\n       <use style=\"stroke:#000000;stroke-width:0.8;\" x=\"76.3625\" xlink:href=\"#m0fe541c682\" y=\"247.078125\"/>\n      </g>\n     </g>\n     <g id=\"line2d_4\">\n      <g>\n       <use style=\"stroke:#000000;stroke-width:0.8;\" x=\"76.3625\" xlink:href=\"#m7661f6cf60\" y=\"23.878125\"/>\n      </g>\n     </g>\n     <g id=\"text_2\">\n      <!-- 2 -->\n      <defs>\n       <path d=\"M 19.1875 8.296875 \nL 53.609375 8.296875 \nL 53.609375 0 \nL 7.328125 0 \nL 7.328125 8.296875 \nQ 12.9375 14.109375 22.625 23.890625 \nQ 32.328125 33.6875 34.8125 36.53125 \nQ 39.546875 41.84375 41.421875 45.53125 \nQ 43.3125 49.21875 43.3125 52.78125 \nQ 43.3125 58.59375 39.234375 62.25 \nQ 35.15625 65.921875 28.609375 65.921875 \nQ 23.96875 65.921875 18.8125 64.3125 \nQ 13.671875 62.703125 7.8125 59.421875 \nL 7.8125 69.390625 \nQ 13.765625 71.78125 18.9375 73 \nQ 24.125 74.21875 28.421875 74.21875 \nQ 39.75 74.21875 46.484375 68.546875 \nQ 53.21875 62.890625 53.21875 53.421875 \nQ 53.21875 48.921875 51.53125 44.890625 \nQ 49.859375 40.875 45.40625 35.40625 \nQ 44.1875 33.984375 37.640625 27.21875 \nQ 31.109375 20.453125 19.1875 8.296875 \nz\n\" id=\"DejaVuSans-32\"/>\n      </defs>\n      <g transform=\"translate(73.18125 14.798438)scale(0.1 -0.1)\">\n       <use xlink:href=\"#DejaVuSans-32\"/>\n      </g>\n     </g>\n    </g>\n    <g id=\"xtick_3\">\n     <g id=\"line2d_5\">\n      <g>\n       <use style=\"stroke:#000000;stroke-width:0.8;\" x=\"121.0025\" xlink:href=\"#m0fe541c682\" y=\"247.078125\"/>\n      </g>\n     </g>\n     <g id=\"line2d_6\">\n      <g>\n       <use style=\"stroke:#000000;stroke-width:0.8;\" x=\"121.0025\" xlink:href=\"#m7661f6cf60\" y=\"23.878125\"/>\n      </g>\n     </g>\n     <g id=\"text_3\">\n      <!-- 4 -->\n      <defs>\n       <path d=\"M 37.796875 64.3125 \nL 12.890625 25.390625 \nL 37.796875 25.390625 \nz\nM 35.203125 72.90625 \nL 47.609375 72.90625 \nL 47.609375 25.390625 \nL 58.015625 25.390625 \nL 58.015625 17.1875 \nL 47.609375 17.1875 \nL 47.609375 0 \nL 37.796875 0 \nL 37.796875 17.1875 \nL 4.890625 17.1875 \nL 4.890625 26.703125 \nz\n\" id=\"DejaVuSans-34\"/>\n      </defs>\n      <g transform=\"translate(117.82125 14.798438)scale(0.1 -0.1)\">\n       <use xlink:href=\"#DejaVuSans-34\"/>\n      </g>\n     </g>\n    </g>\n    <g id=\"xtick_4\">\n     <g id=\"line2d_7\">\n      <g>\n       <use style=\"stroke:#000000;stroke-width:0.8;\" x=\"165.6425\" xlink:href=\"#m0fe541c682\" y=\"247.078125\"/>\n      </g>\n     </g>\n     <g id=\"line2d_8\">\n      <g>\n       <use style=\"stroke:#000000;stroke-width:0.8;\" x=\"165.6425\" xlink:href=\"#m7661f6cf60\" y=\"23.878125\"/>\n      </g>\n     </g>\n     <g id=\"text_4\">\n      <!-- 6 -->\n      <defs>\n       <path d=\"M 33.015625 40.375 \nQ 26.375 40.375 22.484375 35.828125 \nQ 18.609375 31.296875 18.609375 23.390625 \nQ 18.609375 15.53125 22.484375 10.953125 \nQ 26.375 6.390625 33.015625 6.390625 \nQ 39.65625 6.390625 43.53125 10.953125 \nQ 47.40625 15.53125 47.40625 23.390625 \nQ 47.40625 31.296875 43.53125 35.828125 \nQ 39.65625 40.375 33.015625 40.375 \nz\nM 52.59375 71.296875 \nL 52.59375 62.3125 \nQ 48.875 64.0625 45.09375 64.984375 \nQ 41.3125 65.921875 37.59375 65.921875 \nQ 27.828125 65.921875 22.671875 59.328125 \nQ 17.53125 52.734375 16.796875 39.40625 \nQ 19.671875 43.65625 24.015625 45.921875 \nQ 28.375 48.1875 33.59375 48.1875 \nQ 44.578125 48.1875 50.953125 41.515625 \nQ 57.328125 34.859375 57.328125 23.390625 \nQ 57.328125 12.15625 50.6875 5.359375 \nQ 44.046875 -1.421875 33.015625 -1.421875 \nQ 20.359375 -1.421875 13.671875 8.265625 \nQ 6.984375 17.96875 6.984375 36.375 \nQ 6.984375 53.65625 15.1875 63.9375 \nQ 23.390625 74.21875 37.203125 74.21875 \nQ 40.921875 74.21875 44.703125 73.484375 \nQ 48.484375 72.75 52.59375 71.296875 \nz\n\" id=\"DejaVuSans-36\"/>\n      </defs>\n      <g transform=\"translate(162.46125 14.798438)scale(0.1 -0.1)\">\n       <use xlink:href=\"#DejaVuSans-36\"/>\n      </g>\n     </g>\n    </g>\n    <g id=\"xtick_5\">\n     <g id=\"line2d_9\">\n      <g>\n       <use style=\"stroke:#000000;stroke-width:0.8;\" x=\"210.2825\" xlink:href=\"#m0fe541c682\" y=\"247.078125\"/>\n      </g>\n     </g>\n     <g id=\"line2d_10\">\n      <g>\n       <use style=\"stroke:#000000;stroke-width:0.8;\" x=\"210.2825\" xlink:href=\"#m7661f6cf60\" y=\"23.878125\"/>\n      </g>\n     </g>\n     <g id=\"text_5\">\n      <!-- 8 -->\n      <defs>\n       <path d=\"M 31.78125 34.625 \nQ 24.75 34.625 20.71875 30.859375 \nQ 16.703125 27.09375 16.703125 20.515625 \nQ 16.703125 13.921875 20.71875 10.15625 \nQ 24.75 6.390625 31.78125 6.390625 \nQ 38.8125 6.390625 42.859375 10.171875 \nQ 46.921875 13.96875 46.921875 20.515625 \nQ 46.921875 27.09375 42.890625 30.859375 \nQ 38.875 34.625 31.78125 34.625 \nz\nM 21.921875 38.8125 \nQ 15.578125 40.375 12.03125 44.71875 \nQ 8.5 49.078125 8.5 55.328125 \nQ 8.5 64.0625 14.71875 69.140625 \nQ 20.953125 74.21875 31.78125 74.21875 \nQ 42.671875 74.21875 48.875 69.140625 \nQ 55.078125 64.0625 55.078125 55.328125 \nQ 55.078125 49.078125 51.53125 44.71875 \nQ 48 40.375 41.703125 38.8125 \nQ 48.828125 37.15625 52.796875 32.3125 \nQ 56.78125 27.484375 56.78125 20.515625 \nQ 56.78125 9.90625 50.3125 4.234375 \nQ 43.84375 -1.421875 31.78125 -1.421875 \nQ 19.734375 -1.421875 13.25 4.234375 \nQ 6.78125 9.90625 6.78125 20.515625 \nQ 6.78125 27.484375 10.78125 32.3125 \nQ 14.796875 37.15625 21.921875 38.8125 \nz\nM 18.3125 54.390625 \nQ 18.3125 48.734375 21.84375 45.5625 \nQ 25.390625 42.390625 31.78125 42.390625 \nQ 38.140625 42.390625 41.71875 45.5625 \nQ 45.3125 48.734375 45.3125 54.390625 \nQ 45.3125 60.0625 41.71875 63.234375 \nQ 38.140625 66.40625 31.78125 66.40625 \nQ 25.390625 66.40625 21.84375 63.234375 \nQ 18.3125 60.0625 18.3125 54.390625 \nz\n\" id=\"DejaVuSans-38\"/>\n      </defs>\n      <g transform=\"translate(207.10125 14.798438)scale(0.1 -0.1)\">\n       <use xlink:href=\"#DejaVuSans-38\"/>\n      </g>\n     </g>\n    </g>\n   </g>\n   <g id=\"matplotlib.axis_2\">\n    <g id=\"ytick_1\">\n     <g id=\"line2d_11\">\n      <defs>\n       <path d=\"M 0 0 \nL -3.5 0 \n\" id=\"m8f7891059c\" style=\"stroke:#000000;stroke-width:0.8;\"/>\n      </defs>\n      <g>\n       <use style=\"stroke:#000000;stroke-width:0.8;\" x=\"20.5625\" xlink:href=\"#m8f7891059c\" y=\"35.038125\"/>\n      </g>\n     </g>\n     <g id=\"text_6\">\n      <!-- 0 -->\n      <g transform=\"translate(7.2 38.837344)scale(0.1 -0.1)\">\n       <use xlink:href=\"#DejaVuSans-30\"/>\n      </g>\n     </g>\n    </g>\n    <g id=\"ytick_2\">\n     <g id=\"line2d_12\">\n      <g>\n       <use style=\"stroke:#000000;stroke-width:0.8;\" x=\"20.5625\" xlink:href=\"#m8f7891059c\" y=\"79.678125\"/>\n      </g>\n     </g>\n     <g id=\"text_7\">\n      <!-- 2 -->\n      <g transform=\"translate(7.2 83.477344)scale(0.1 -0.1)\">\n       <use xlink:href=\"#DejaVuSans-32\"/>\n      </g>\n     </g>\n    </g>\n    <g id=\"ytick_3\">\n     <g id=\"line2d_13\">\n      <g>\n       <use style=\"stroke:#000000;stroke-width:0.8;\" x=\"20.5625\" xlink:href=\"#m8f7891059c\" y=\"124.318125\"/>\n      </g>\n     </g>\n     <g id=\"text_8\">\n      <!-- 4 -->\n      <g transform=\"translate(7.2 128.117344)scale(0.1 -0.1)\">\n       <use xlink:href=\"#DejaVuSans-34\"/>\n      </g>\n     </g>\n    </g>\n    <g id=\"ytick_4\">\n     <g id=\"line2d_14\">\n      <g>\n       <use style=\"stroke:#000000;stroke-width:0.8;\" x=\"20.5625\" xlink:href=\"#m8f7891059c\" y=\"168.958125\"/>\n      </g>\n     </g>\n     <g id=\"text_9\">\n      <!-- 6 -->\n      <g transform=\"translate(7.2 172.757344)scale(0.1 -0.1)\">\n       <use xlink:href=\"#DejaVuSans-36\"/>\n      </g>\n     </g>\n    </g>\n    <g id=\"ytick_5\">\n     <g id=\"line2d_15\">\n      <g>\n       <use style=\"stroke:#000000;stroke-width:0.8;\" x=\"20.5625\" xlink:href=\"#m8f7891059c\" y=\"213.598125\"/>\n      </g>\n     </g>\n     <g id=\"text_10\">\n      <!-- 8 -->\n      <g transform=\"translate(7.2 217.397344)scale(0.1 -0.1)\">\n       <use xlink:href=\"#DejaVuSans-38\"/>\n      </g>\n     </g>\n    </g>\n   </g>\n   <g id=\"patch_3\">\n    <path d=\"M 20.5625 247.078125 \nL 20.5625 23.878125 \n\" style=\"fill:none;stroke:#000000;stroke-linecap:square;stroke-linejoin:miter;stroke-width:0.8;\"/>\n   </g>\n   <g id=\"patch_4\">\n    <path d=\"M 243.7625 247.078125 \nL 243.7625 23.878125 \n\" style=\"fill:none;stroke:#000000;stroke-linecap:square;stroke-linejoin:miter;stroke-width:0.8;\"/>\n   </g>\n   <g id=\"patch_5\">\n    <path d=\"M 20.5625 247.078125 \nL 243.7625 247.078125 \n\" style=\"fill:none;stroke:#000000;stroke-linecap:square;stroke-linejoin:miter;stroke-width:0.8;\"/>\n   </g>\n   <g id=\"patch_6\">\n    <path d=\"M 20.5625 23.878125 \nL 243.7625 23.878125 \n\" style=\"fill:none;stroke:#000000;stroke-linecap:square;stroke-linejoin:miter;stroke-width:0.8;\"/>\n   </g>\n  </g>\n </g>\n <defs>\n  <clipPath id=\"pdc10d644af\">\n   <rect height=\"223.2\" width=\"223.2\" x=\"20.5625\" y=\"23.878125\"/>\n  </clipPath>\n </defs>\n</svg>\n",
      "image/png": "[encoded data removed]"
     },
     "metadata": {
      "needs_background": "light"
     }
    }
   ],
   "source": [
    "# In order to get a more normalised view of the matrix, we can devide each row\n",
    "# by the number of datapoints in that class.\n",
    "cat_sums = sdg_conf_mtx.sum(axis=1, keepdims=True)\n",
    "norm_sdg_conf_mtx = sdg_conf_mtx / cat_sums\n",
    "\n",
    "# Now, lets fill the diagonal with 0's as the correct predictions do nopt concern us.\n",
    "np.fill_diagonal(norm_sdg_conf_mtx, 0)\n",
    "\n",
    "# and display\n",
    "plt.matshow(norm_sdg_conf_mtx, cmap=plt.cm.gray)\n",
    "plt.show()\n",
    "\n",
    "# We can see immediatelly that nearly all of the numbers are being confused with 8's\n",
    "# Most notably 0,2,3,4,5 and 9 from which 5 is very bad"
   ]
  },
  {
   "cell_type": "code",
   "execution_count": 69,
   "metadata": {},
   "outputs": [
    {
     "output_type": "execute_result",
     "data": {
      "text/plain": [
       "array([5962, 6714, 5974, 6071, 5829, 5417, 5946, 6237, 5844, 6006])"
      ]
     },
     "metadata": {},
     "execution_count": 69
    }
   ],
   "source": [
    "# You can see here that 8's are not the smalles class in the dataset\n",
    "np.unique(y_train, return_counts=True)[1]"
   ]
  },
  {
   "cell_type": "code",
   "execution_count": null,
   "metadata": {},
   "outputs": [],
   "source": [
    "# Lastly, it would be a good idea to analise the individual errors.\n",
    "# However, I'm not going to include that in this notebook"
   ]
  }
 ]
}