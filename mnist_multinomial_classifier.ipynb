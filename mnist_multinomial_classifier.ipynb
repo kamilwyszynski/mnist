{
 "metadata": {
  "language_info": {
   "codemirror_mode": {
    "name": "ipython",
    "version": 3
   },
   "file_extension": ".py",
   "mimetype": "text/x-python",
   "name": "python",
   "nbconvert_exporter": "python",
   "pygments_lexer": "ipython3",
   "version": "3.9.5"
  },
  "orig_nbformat": 2,
  "kernelspec": {
   "name": "python3",
   "display_name": "Python 3.9.5 64-bit"
  },
  "interpreter": {
   "hash": "aee8b7b246df8f9039afb4144a1f6fd8d2ca17a180786b69acc140d282b71a49"
  }
 },
 "nbformat": 4,
 "nbformat_minor": 2,
 "cells": [
  {
   "cell_type": "code",
   "execution_count": 2,
   "source": [
    "# data\n",
    "from sklearn.datasets import fetch_openml\n",
    "import numpy as np\n",
    "import random\n",
    "from sklearn.preprocessing import StandardScaler\n",
    "\n",
    "# models\n",
    "from sklearn.linear_model import SGDClassifier\n",
    "from sklearn.ensemble import RandomForestClassifier\n",
    "from sklearn.neighbors import KNeighborsClassifier\n",
    "\n",
    "# model validation\n",
    "from sklearn.model_selection import cross_val_score, cross_val_predict\n",
    "from sklearn.metrics import confusion_matrix, precision_score, recall_score, f1_score, precision_recall_curve, roc_curve, roc_auc_score\n",
    "\n",
    "# visualisation\n",
    "import matplotlib\n",
    "import matplotlib.pyplot as plt\n",
    "\n",
    "# fine-tuning\n",
    "from sklearn.model_selection import GridSearchCV\n"
   ],
   "outputs": [],
   "metadata": {}
  },
  {
   "cell_type": "code",
   "execution_count": 3,
   "source": [
    "# Getting the data \n",
    "mnist = fetch_openml('mnist_784', version=1, cache=True, as_frame=False)\n",
    "\n",
    "# ordering the dataset as explained in here: https://github.com/ageron/handson-ml/issues/301#issuecomment-448853256\n",
    "\n",
    "\n",
    "def sort_by_target(mnist):\n",
    "    reorder_train = np.array(\n",
    "        sorted([(target, i) for i, target in enumerate(mnist.target[:60000])]))[:, 1]\n",
    "    reorder_test = np.array(\n",
    "        sorted([(target, i) for i, target in enumerate(mnist.target[60000:])]))[:, 1]\n",
    "    mnist.data[:60000] = mnist.data[reorder_train]\n",
    "    mnist.target[:60000] = mnist.target[reorder_train]\n",
    "    mnist.data[60000:] = mnist.data[reorder_test + 60000]\n",
    "    mnist.target[60000:] = mnist.target[reorder_test + 60000]\n",
    "\n",
    "\n",
    "# fetch_openml() returns targets as strings\n",
    "mnist.target = mnist.target.astype(np.int8)\n",
    "sort_by_target(mnist)  # fetch_openml() returns an unsorted dataset\n",
    "\n",
    "# Split into data and labels\n",
    "X, y = mnist['data'], mnist['target']\n",
    "\n",
    "# shuffling the data \n",
    "shuffle_index = np.random.permutation(70000)\n",
    "X, y = X[shuffle_index], y[shuffle_index]\n",
    "\n",
    "# splitting the data\n",
    "X_train, X_test, y_train, y_test = X[:60000], X[60000:], y[:60000], y[60000:]\n"
   ],
   "outputs": [],
   "metadata": {}
  },
  {
   "cell_type": "code",
   "execution_count": 4,
   "source": [
    "# Now, we're going to use the SGD model to classify all 10 numbers at once.\n",
    "# As the SGD classifier is a linear classifier, scikit learn will know to perform\n",
    "# a OvA (one-versus-all) strategy.\n",
    "# That menas that it will train one SGD model to classify each number separately\n",
    "\n",
    "sgd_class = SGDClassifier(random_state=42)\n",
    "sgd_class.fit(X_train, y_train)"
   ],
   "outputs": [
    {
     "output_type": "execute_result",
     "data": {
      "text/plain": [
       "SGDClassifier(random_state=42)"
      ]
     },
     "metadata": {},
     "execution_count": 4
    }
   ],
   "metadata": {}
  },
  {
   "cell_type": "code",
   "execution_count": 5,
   "source": [
    "# Verifying the prediction by passing a random number image\n",
    "\n",
    "def prediction_print(model):\n",
    "    rand = random.randint(0, 10000)\n",
    "    X_example = X_train[rand]\n",
    "    y_example = y_train[rand]\n",
    "\n",
    "    %matplotlib inline\n",
    "    plt.imshow(X_example.reshape(28,28), cmap=matplotlib.cm.binary, interpolation=\"nearest\")\n",
    "    plt.axis('off')\n",
    "\n",
    "    # score_example = sgd_class.decision_function([X_example])\n",
    "    prediction_example = model.predict([X_example])\n",
    "\n",
    "    print(f'Predicted: {prediction_example}')\n",
    "\n",
    "prediction_print(sgd_class)"
   ],
   "outputs": [
    {
     "output_type": "stream",
     "name": "stdout",
     "text": [
      "Predicted: [0]\n"
     ]
    },
    {
     "output_type": "display_data",
     "data": {
      "image/png": "[encoded data removed]",
      "text/plain": [
       "<Figure size 432x288 with 1 Axes>"
      ]
     },
     "metadata": {
      "needs_background": "light"
     }
    }
   ],
   "metadata": {}
  },
  {
   "cell_type": "code",
   "execution_count": 6,
   "source": [
    "# We can also train the Random Forest model.\n",
    "# This time no OvA/OvO will be needed as the model itself is capable of multinomial classification\n",
    "\n",
    "forest_class = RandomForestClassifier(random_state=42)\n",
    "forest_class.fit(X_train, y_train)"
   ],
   "outputs": [
    {
     "output_type": "execute_result",
     "data": {
      "text/plain": [
       "RandomForestClassifier(random_state=42)"
      ]
     },
     "metadata": {},
     "execution_count": 6
    }
   ],
   "metadata": {}
  },
  {
   "cell_type": "code",
   "execution_count": 8,
   "source": [
    "# Visualising thge prediction\n",
    "\n",
    "prediction_print(forest_class)"
   ],
   "outputs": [
    {
     "output_type": "stream",
     "name": "stdout",
     "text": [
      "Predicted: [8]\n"
     ]
    },
    {
     "output_type": "display_data",
     "data": {
      "image/png": "[encoded data removed]",
      "text/plain": [
       "<Figure size 432x288 with 1 Axes>"
      ]
     },
     "metadata": {
      "needs_background": "light"
     }
    }
   ],
   "metadata": {}
  },
  {
   "cell_type": "code",
   "execution_count": 9,
   "source": [
    "# We can additionally see the list of probabilities of the rf model\n",
    "\n",
    "# In this case the model is 100% sure that the digit ion the picture is a 7\n",
    "forest_class.predict_proba([X_train[36000]])"
   ],
   "outputs": [
    {
     "output_type": "execute_result",
     "data": {
      "text/plain": [
       "array([[0.  , 0.  , 0.  , 0.  , 0.97, 0.  , 0.  , 0.  , 0.01, 0.02]])"
      ]
     },
     "metadata": {},
     "execution_count": 9
    }
   ],
   "metadata": {}
  },
  {
   "cell_type": "markdown",
   "source": [
    "## Model Validations"
   ],
   "metadata": {}
  },
  {
   "cell_type": "code",
   "execution_count": 10,
   "source": [
    "# Evaluating the SDG model by cross validation with accuracy as the score\n",
    "sdg_accuracy = cross_val_score(sgd_class, X_train, y_train, cv=3, scoring='accuracy')"
   ],
   "outputs": [],
   "metadata": {}
  },
  {
   "cell_type": "code",
   "execution_count": 11,
   "source": [
    "# Evaluating the SDG model using standardised trauining data.\n",
    "# This will most likely improve the accuracy score of the model as all the features of \n",
    "# each datapoint will be standardised\n",
    "\n",
    "scaler = StandardScaler()\n",
    "X_train_scaled = scaler.fit_transform(X_train.astype(np.float64))\n",
    "cross_val_score(sgd_class, X_train_scaled, y_train, cv=3, scoring='accuracy')"
   ],
   "outputs": [
    {
     "output_type": "stream",
     "name": "stderr",
     "text": [
      "/Library/Frameworks/Python.framework/Versions/3.9/lib/python3.9/site-packages/sklearn/linear_model/_stochastic_gradient.py:574: ConvergenceWarning: Maximum number of iteration reached before convergence. Consider increasing max_iter to improve the fit.\n",
      "  warnings.warn(\"Maximum number of iteration reached before \"\n"
     ]
    },
    {
     "output_type": "execute_result",
     "data": {
      "text/plain": [
       "array([0.90505, 0.90325, 0.8981 ])"
      ]
     },
     "metadata": {},
     "execution_count": 11
    }
   ],
   "metadata": {}
  },
  {
   "cell_type": "markdown",
   "source": [
    "## Error analysis"
   ],
   "metadata": {}
  },
  {
   "cell_type": "code",
   "execution_count": 12,
   "source": [
    "# In order to detect the flaws of the system, we could look at the confusion matrix\n",
    "# and verify where the model is making the most mistakes\n",
    "y_train_pred = cross_val_predict(sgd_class, X_train_scaled, y_train)\n",
    "sdg_conf_mtx = confusion_matrix(y_train, y_train_pred)\n",
    "\n",
    "sdg_conf_mtx"
   ],
   "outputs": [
    {
     "output_type": "execute_result",
     "data": {
      "text/plain": [
       "array([[5578,    0,   20,    7,    8,   33,   33,    5,  216,    0],\n",
       "       [   0, 6435,   39,   15,    3,   44,    7,    9,  196,   10],\n",
       "       [  18,   25, 5231,   77,   66,   26,   67,   43,  371,   13],\n",
       "       [  26,   15,  113, 5253,    1,  195,   22,   43,  398,   59],\n",
       "       [   8,   13,   44,    9, 5275,    9,   25,   24,  337,  155],\n",
       "       [  20,   15,   28,  165,   53, 4426,   83,   15,  536,   64],\n",
       "       [  29,   20,   48,    1,   45,   93, 5527,    6,  143,    0],\n",
       "       [  20,   10,   60,   19,   49,   14,    4, 5672,  186,  201],\n",
       "       [  17,   54,   44,   83,    6,  130,   30,    9, 5452,   39],\n",
       "       [  21,   17,   21,   70,  116,   39,    1,  175,  380, 5125]])"
      ]
     },
     "metadata": {},
     "execution_count": 12
    }
   ],
   "metadata": {}
  },
  {
   "cell_type": "code",
   "execution_count": 13,
   "source": [
    "# It's more visible on a graph showing the scale of the confusion.\n",
    "# Each row represents a class and each column represents the prediction.\n",
    "\n",
    "plt.matshow(sdg_conf_mtx, cmap=plt.cm.gray)\n",
    "plt.show()"
   ],
   "outputs": [
    {
     "output_type": "display_data",
     "data": {
      "image/png": "[encoded data removed]",
      "text/plain": [
       "<Figure size 288x288 with 1 Axes>"
      ]
     },
     "metadata": {
      "needs_background": "light"
     }
    }
   ],
   "metadata": {}
  },
  {
   "cell_type": "code",
   "execution_count": 14,
   "source": [
    "# In order to get a more normalised view of the matrix, we can devide each row\n",
    "# by the number of datapoints in that class.\n",
    "cat_sums = sdg_conf_mtx.sum(axis=1, keepdims=True)\n",
    "norm_sdg_conf_mtx = sdg_conf_mtx / cat_sums\n",
    "\n",
    "# Now, lets fill the diagonal with 0's as the correct predictions do nopt concern us.\n",
    "np.fill_diagonal(norm_sdg_conf_mtx, 0)\n",
    "\n",
    "# and display\n",
    "plt.matshow(norm_sdg_conf_mtx, cmap=plt.cm.gray)\n",
    "plt.show()\n",
    "\n",
    "# We can see immediatelly that nearly all of the numbers are being confused with 8's\n",
    "# Most notably 0,2,3,4,5 and 9 from which 5 is very bad"
   ],
   "outputs": [
    {
     "output_type": "display_data",
     "data": {
      "image/png": "[encoded data removed]",
      "text/plain": [
       "<Figure size 288x288 with 1 Axes>"
      ]
     },
     "metadata": {
      "needs_background": "light"
     }
    }
   ],
   "metadata": {}
  },
  {
   "cell_type": "code",
   "execution_count": 15,
   "source": [
    "# You can see here that 8's are not the smalles class in the dataset\n",
    "np.unique(y_train, return_counts=True)[1]"
   ],
   "outputs": [
    {
     "output_type": "execute_result",
     "data": {
      "text/plain": [
       "array([5900, 6758, 5937, 6125, 5899, 5405, 5912, 6235, 5864, 5965])"
      ]
     },
     "metadata": {},
     "execution_count": 15
    }
   ],
   "metadata": {}
  },
  {
   "cell_type": "code",
   "execution_count": null,
   "source": [
    "# Lastly, it would be a good idea to analise the individual errors.\n",
    "# However, I'm not going to include that in this notebook"
   ],
   "outputs": [],
   "metadata": {}
  },
  {
   "cell_type": "markdown",
   "source": [
    "## Multilabel Classification"
   ],
   "metadata": {}
  },
  {
   "cell_type": "code",
   "execution_count": 74,
   "source": [
    "# A multilabel classification model would be used in order to determine more than one class out of each datapoint\n",
    "# For example, let's say that each picture could contain faces of three people: Alice, Bob and Chartlie\n",
    "# Then if presented with a phot of Alice and Bob, the model sghouel return [1,1,0]\n",
    "# (As in Alice- yes, Bob - yes, Charlie - no)\n",
    "\n",
    "# A more realistic example would be if we'd want to recognise if a number is or isn't\n",
    "# larger than 6 and is or isn't an odd number\n",
    "y_train_large = (y_train >= 7)\n",
    "y_train_odd = (y_train % 2 == 1)\n",
    "y_multilabel = np.c_[y_train_large, y_train_odd]\n",
    "\n",
    "# We will use a KNN classifier as it is able to work with multilabel datasets\n",
    "knn_class = KNeighborsClassifier()\n",
    "knn_class.fit(X_train, y_multilabel)"
   ],
   "outputs": [
    {
     "output_type": "execute_result",
     "data": {
      "text/plain": [
       "KNeighborsClassifier(algorithm='auto', leaf_size=30, metric='minkowski',\n",
       "                     metric_params=None, n_jobs=None, n_neighbors=5, p=2,\n",
       "                     weights='uniform')"
      ]
     },
     "metadata": {},
     "execution_count": 74
    }
   ],
   "metadata": {}
  },
  {
   "cell_type": "code",
   "execution_count": 96,
   "source": [
    "# verifying the models prediction on a random datapoint\n",
    "r = random.randint(0, 60000)\n",
    "X_rand = X_train[r]\n",
    "print(y_train[r])\n",
    "\n",
    "knn_class.predict([X_rand])"
   ],
   "outputs": [
    {
     "output_type": "stream",
     "name": "stdout",
     "text": [
      "7.0\n"
     ]
    },
    {
     "output_type": "execute_result",
     "data": {
      "text/plain": [
       "array([[ True,  True]])"
      ]
     },
     "metadata": {},
     "execution_count": 96
    }
   ],
   "metadata": {}
  },
  {
   "cell_type": "code",
   "execution_count": null,
   "source": [
    "# Evaluating a multilabel classification model\n",
    "y_train_knn_pred = cross_val_predict(knn_class, X_train, y_multilabel, cv=3)\n",
    "f1_score(y_multilabel, y_train_knn_pred, average='macro')"
   ],
   "outputs": [],
   "metadata": {}
  },
  {
   "cell_type": "markdown",
   "source": [
    "## Trying to achieve 97% accuracy on MNIST"
   ],
   "metadata": {}
  },
  {
   "cell_type": "code",
   "execution_count": 20,
   "source": [
    "# First, trying the KNC model\n",
    "knn = KNeighborsClassifier()\n",
    "\n",
    "# GridSearch fine-tuning\n",
    "# try to tweak some more hyperparameters that are not there yet\n",
    "params = [\n",
    "    {'weights': ['uniform', 'distance'], 'n_neighbors': [9, 11, 20]}\n",
    "]\n",
    "\n",
    "grid_search = GridSearchCV(knn, params, cv=3, scoring='accuracy')\n",
    "grid_search.fit(X_train, y_train)"
   ],
   "outputs": [
    {
     "output_type": "execute_result",
     "data": {
      "text/plain": [
       "GridSearchCV(cv=3, estimator=KNeighborsClassifier(),\n",
       "             param_grid=[{'n_neighbors': [9, 11, 20],\n",
       "                          'weights': ['uniform', 'distance']}],\n",
       "             scoring='accuracy')"
      ]
     },
     "metadata": {},
     "execution_count": 20
    }
   ],
   "metadata": {}
  },
  {
   "cell_type": "code",
   "execution_count": 22,
   "source": [
    "# Getting the best parameters for that grid search\n",
    "grid_search.best_params_"
   ],
   "outputs": [
    {
     "output_type": "execute_result",
     "data": {
      "text/plain": [
       "{'n_neighbors': 9, 'weights': 'distance'}"
      ]
     },
     "metadata": {},
     "execution_count": 22
    }
   ],
   "metadata": {}
  },
  {
   "cell_type": "code",
   "execution_count": 23,
   "source": [
    "cross_val_score(grid_search.best_estimator_, X_train_scaled, y_train, cv=3, scoring='accuracy')\n"
   ],
   "outputs": [
    {
     "output_type": "execute_result",
     "data": {
      "text/plain": [
       "array([0.9385 , 0.93975, 0.9387 ])"
      ]
     },
     "metadata": {},
     "execution_count": 23
    }
   ],
   "metadata": {}
  }
 ]
}